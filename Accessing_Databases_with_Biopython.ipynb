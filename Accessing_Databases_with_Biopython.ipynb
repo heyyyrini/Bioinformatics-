{
  "nbformat": 4,
  "nbformat_minor": 0,
  "metadata": {
    "colab": {
      "provenance": [],
      "authorship_tag": "ABX9TyOKEUHD/fzqVGkmlLZgo0gI",
      "include_colab_link": true
    },
    "kernelspec": {
      "name": "python3",
      "display_name": "Python 3"
    },
    "language_info": {
      "name": "python"
    }
  },
  "cells": [
    {
      "cell_type": "markdown",
      "metadata": {
        "id": "view-in-github",
        "colab_type": "text"
      },
      "source": [
        "<a href=\"https://colab.research.google.com/github/heyyyrini/Bioinformatics-/blob/main/Accessing_Databases_with_Biopython.ipynb\" target=\"_parent\"><img src=\"https://colab.research.google.com/assets/colab-badge.svg\" alt=\"Open In Colab\"/></a>"
      ]
    },
    {
      "cell_type": "code",
      "execution_count": 1,
      "metadata": {
        "colab": {
          "base_uri": "https://localhost:8080/"
        },
        "collapsed": true,
        "id": "vUeqzuZ6sfAS",
        "outputId": "b6537efb-63ff-4c3d-9420-d720009ee114"
      },
      "outputs": [
        {
          "output_type": "stream",
          "name": "stdout",
          "text": [
            "Collecting biopython\n",
            "  Downloading biopython-1.84-cp310-cp310-manylinux_2_17_x86_64.manylinux2014_x86_64.whl (3.2 MB)\n",
            "\u001b[2K     \u001b[90m━━━━━━━━━━━━━━━━━━━━━━━━━━━━━━━━━━━━━━━━\u001b[0m \u001b[32m3.2/3.2 MB\u001b[0m \u001b[31m14.5 MB/s\u001b[0m eta \u001b[36m0:00:00\u001b[0m\n",
            "\u001b[?25hRequirement already satisfied: numpy in /usr/local/lib/python3.10/dist-packages (from biopython) (1.25.2)\n",
            "Installing collected packages: biopython\n",
            "Successfully installed biopython-1.84\n"
          ]
        }
      ],
      "source": [
        "!pip install biopython\n",
        "from Bio.Blast import NCBIWWW\n",
        "from Bio import SeqIO, SearchIO\n",
        "import os"
      ]
    },
    {
      "cell_type": "code",
      "source": [
        "#help(NCBIWWW)"
      ],
      "metadata": {
        "id": "1VCrBIR_tYvt"
      },
      "execution_count": null,
      "outputs": []
    },
    {
      "cell_type": "markdown",
      "source": [
        "# **Nucleotide BLAST**\n",
        "\n",
        "Basic Local Alignment Search Tool:\n",
        "\n",
        "BLAST finds regions of similarity between biological sequences. The program compares nucleotide or protein sequences to sequence databases and calculates the statistical significance.\n",
        "\n",
        "The program compares nucleotide or protein sequences to sequence databases and calculates the statistical significance of matches. BLAST can be used to infer functional and evolutionary relationships between sequences as well as help identify members of gene families."
      ],
      "metadata": {
        "id": "nNNA1GLDEC5q"
      }
    },
    {
      "cell_type": "code",
      "source": [
        "!ls"
      ],
      "metadata": {
        "colab": {
          "base_uri": "https://localhost:8080/"
        },
        "id": "MCY2UxvauCKl",
        "outputId": "746001e1-f795-4db2-b71d-3e3365a10a0e"
      },
      "execution_count": 3,
      "outputs": [
        {
          "output_type": "stream",
          "name": "stdout",
          "text": [
            "nuc_seq.fasta  prot_seq.fasta  sample_data\n"
          ]
        }
      ]
    },
    {
      "cell_type": "code",
      "source": [
        "nucrec=SeqIO.read('nuc_seq.fasta', 'fasta')\n",
        "len(nucrec) #number of nucleotides"
      ],
      "metadata": {
        "colab": {
          "base_uri": "https://localhost:8080/"
        },
        "id": "ePUHGguju5Cv",
        "outputId": "a9f5f607-e1ce-4571-e7c9-1451ed4fc09f"
      },
      "execution_count": 5,
      "outputs": [
        {
          "output_type": "execute_result",
          "data": {
            "text/plain": [
              "774"
            ]
          },
          "metadata": {},
          "execution_count": 5
        }
      ]
    },
    {
      "cell_type": "code",
      "source": [
        "nucrec.description"
      ],
      "metadata": {
        "colab": {
          "base_uri": "https://localhost:8080/",
          "height": 35
        },
        "id": "zH24DOjcD0td",
        "outputId": "b6fe4a67-ab3f-4eae-c1ba-7c7beda74ab6"
      },
      "execution_count": 6,
      "outputs": [
        {
          "output_type": "execute_result",
          "data": {
            "text/plain": [
              "'MT598137.1 Severe acute respiratory syndrome coronavirus 2 isolate SARS-CoV-2/human/IRN/PN-2142-S/2020 surface glycoprotein (S) gene, partial cds'"
            ],
            "application/vnd.google.colaboratory.intrinsic+json": {
              "type": "string"
            }
          },
          "metadata": {},
          "execution_count": 6
        }
      ]
    },
    {
      "cell_type": "code",
      "source": [
        "nucrec.seq"
      ],
      "metadata": {
        "colab": {
          "base_uri": "https://localhost:8080/"
        },
        "id": "Z4oE3WU2D75f",
        "outputId": "56251825-a2ae-4fdb-9d30-d703dc434761"
      },
      "execution_count": 7,
      "outputs": [
        {
          "output_type": "execute_result",
          "data": {
            "text/plain": [
              "Seq('ATCGCTCCAGGGCAAACTGGAAAGATTGCTGATTATAATTATAAATTACCAGAT...GGT')"
            ]
          },
          "metadata": {},
          "execution_count": 7
        }
      ]
    },
    {
      "cell_type": "markdown",
      "source": [
        "To perform BLAST, we will using this sequence. We will call a function, in this case is 'blast nucleotide', followed by the type of sequence in the database, which is 'nt', nucleotide, finally followed by name of variable.\n",
        "\n"
      ],
      "metadata": {
        "id": "snFITcvGEQp7"
      }
    },
    {
      "cell_type": "code",
      "source": [
        "result_handle= NCBIWWW.qblast(\"blastn\",\"nt\",nucrec.seq)\n",
        "blast_result=SearchIO.read(result_handle, \"blast-xml\") #blast-xml is a format"
      ],
      "metadata": {
        "id": "g1191zmjEejl"
      },
      "execution_count": 8,
      "outputs": []
    },
    {
      "cell_type": "code",
      "source": [
        "print(blast_result[0:5])"
      ],
      "metadata": {
        "colab": {
          "base_uri": "https://localhost:8080/"
        },
        "id": "rpEkIX9RD_xl",
        "outputId": "1c19648a-4bdf-46ea-e36b-eee3a87d48c1"
      },
      "execution_count": 9,
      "outputs": [
        {
          "output_type": "stream",
          "name": "stdout",
          "text": [
            "Program: blastn (2.16.0+)\n",
            "  Query: No (774)\n",
            "         definition line\n",
            " Target: nt\n",
            "   Hits: ----  -----  ----------------------------------------------------------\n",
            "            #  # HSP  ID + description\n",
            "         ----  -----  ----------------------------------------------------------\n",
            "            0      1  gi|2758774711|gb|PQ010571.1|  Severe acute respiratory ...\n",
            "            1      1  gi|2758774075|gb|PQ010522.1|  Severe acute respiratory ...\n",
            "            2      1  gi|2753524301|gb|PP981015.1|  Severe acute respiratory ...\n",
            "            3      1  gi|2743554094|gb|PP915627.1|  Severe acute respiratory ...\n",
            "            4      1  gi|2732219772|gb|PP787879.1|  Severe acute respiratory ...\n"
          ]
        }
      ]
    },
    {
      "cell_type": "markdown",
      "source": [
        "blastn: compares a nucleotide query sequence against a nucleotide sequence database.\n",
        "\n",
        "blast-xml: BLAST XML format includes a lot of information on query and database name, sequence identity, statistics, alignments and so on.\n",
        "\n",
        "The first HIT is usually the best match in sequence. So we can obtain more information with this first data:"
      ],
      "metadata": {
        "id": "Kss7H3OpGyAD"
      }
    },
    {
      "cell_type": "code",
      "source": [
        "Seq=blast_result[0]\n",
        "print(f\"Sequence ID: {Seq.id}\")\n",
        "print(f\"Sequence Description: {Seq.description}\")\n",
        "\n",
        "details=Seq[0]\n",
        "print(f\"E-value: {details.evalue}\")"
      ],
      "metadata": {
        "colab": {
          "base_uri": "https://localhost:8080/"
        },
        "id": "KLCqFH3xGfCh",
        "outputId": "ed50924c-2554-48c1-9c86-10e507ae5c4d"
      },
      "execution_count": 12,
      "outputs": [
        {
          "output_type": "stream",
          "name": "stdout",
          "text": [
            "Sequence ID: gi|2758774711|gb|PQ010571.1|\n",
            "Sequence Description: Severe acute respiratory syndrome coronavirus 2 isolate SARS-CoV-2/human/USA/CA-LACPHL-AY07127/2020, complete genome\n",
            "E-value: 0.0\n"
          ]
        }
      ]
    },
    {
      "cell_type": "markdown",
      "source": [
        "The BLAST E-value is the number of expected hits of similar quality (score) that could be found just by chance.\n",
        "\n",
        "E-value of 10 means that up to 10 hits can be expected to be found just by chance, given the same size of a random database.\n",
        "\n",
        "E-value can be used as a first quality filter for the BLAST search result, to obtain only results equal to or better than the number given by the -evalue  option. Blast results are sorted by E-value by default (best hit in first line).\n",
        "\n",
        "The smaller the E-value, the better the match."
      ],
      "metadata": {
        "id": "b8LyjZr3I87G"
      }
    },
    {
      "cell_type": "code",
      "source": [
        "print(f\"alignment:\\n{details.aln}\")"
      ],
      "metadata": {
        "colab": {
          "base_uri": "https://localhost:8080/"
        },
        "id": "Wt5yeA-6JIdR",
        "outputId": "ea334258-ebbf-40f4-ee2d-3772a5ca5217"
      },
      "execution_count": 13,
      "outputs": [
        {
          "output_type": "stream",
          "name": "stdout",
          "text": [
            "alignment:\n",
            "Alignment with 2 rows and 774 columns\n",
            "ATCGCTCCAGGGCAAACTGGAAAGATTGCTGATTATAATTATAA...GGT No\n",
            "ATCGCTCCAGGGCAAACTGGAAAGATTGCTGATTATAATTATAA...GGT gi|2758774711|gb|PQ010571.1|\n"
          ]
        }
      ]
    },
    {
      "cell_type": "markdown",
      "source": [
        "# **Protien BLAST**"
      ],
      "metadata": {
        "id": "ijGEBNgRJgRP"
      }
    },
    {
      "cell_type": "code",
      "source": [
        "prot_record = SeqIO.read(\"prot_seq.fasta\", format=\"fasta\")\n",
        "len(prot_record) #number of amino acids"
      ],
      "metadata": {
        "colab": {
          "base_uri": "https://localhost:8080/"
        },
        "id": "xysVKW4rJfHv",
        "outputId": "95dd9d94-ce4b-454f-d4b4-b2f1fc183f55"
      },
      "execution_count": 14,
      "outputs": [
        {
          "output_type": "execute_result",
          "data": {
            "text/plain": [
              "258"
            ]
          },
          "metadata": {},
          "execution_count": 14
        }
      ]
    },
    {
      "cell_type": "code",
      "source": [
        "result_handle = NCBIWWW.qblast(\"blastp\", \"pdb\", prot_record.seq)\n",
        "blast_result = SearchIO.read(result_handle, \"blast-xml\")"
      ],
      "metadata": {
        "id": "7SZKNZBIKcym"
      },
      "execution_count": 17,
      "outputs": []
    },
    {
      "cell_type": "code",
      "source": [
        "print(blast_result[0:5])"
      ],
      "metadata": {
        "colab": {
          "base_uri": "https://localhost:8080/"
        },
        "id": "u3w3uppzKgQB",
        "outputId": "1bfd29d9-c2ba-4fa6-a5bf-1a148d4adef5"
      },
      "execution_count": 18,
      "outputs": [
        {
          "output_type": "stream",
          "name": "stdout",
          "text": [
            "Program: blastp (2.16.0+)\n",
            "  Query: unnamed (258)\n",
            "         protein product\n",
            " Target: pdb\n",
            "   Hits: ----  -----  ----------------------------------------------------------\n",
            "            #  # HSP  ID + description\n",
            "         ----  -----  ----------------------------------------------------------\n",
            "            0      1  pdb|8ELJ|A  Chain A, Spike glycoprotein [Severe acute r...\n",
            "            1      1  pdb|7CAB|A  Chain A, Spike glycoprotein [Severe acute r...\n",
            "            2      1  pdb|7R4I|A  Chain A, Spike glycoprotein [Severe acute r...\n",
            "            3      1  pdb|7BYR|A  Chain A, Spike glycoprotein [Severe acute r...\n",
            "            4      1  pdb|7WGV|A  Chain A, Spike glycoprotein [Severe acute r...\n"
          ]
        }
      ]
    },
    {
      "cell_type": "code",
      "source": [
        "Seq = blast_result [0]\n",
        "print(f\"Sequence ID: {Seq.id}\")\n",
        "print(f\"Sequence Description: {Seq.description}\")\n",
        "\n",
        "details = Seq[0]\n",
        "print(f\"E-value: {details.evalue}\")"
      ],
      "metadata": {
        "colab": {
          "base_uri": "https://localhost:8080/"
        },
        "id": "9cdNXpLGKkjx",
        "outputId": "8f0a5240-61ea-4643-a5b2-c48cdc89f6f6"
      },
      "execution_count": 19,
      "outputs": [
        {
          "output_type": "stream",
          "name": "stdout",
          "text": [
            "Sequence ID: pdb|8ELJ|A\n",
            "Sequence Description: Chain A, Spike glycoprotein [Severe acute respiratory syndrome coronavirus 2]\n",
            "E-value: 0.0\n"
          ]
        }
      ]
    },
    {
      "cell_type": "code",
      "source": [
        "print(f\"alignment:\\n {details.aln}\")"
      ],
      "metadata": {
        "colab": {
          "base_uri": "https://localhost:8080/"
        },
        "id": "5DgmbsFaKt5V",
        "outputId": "ce3d704c-5e59-4430-a41c-43be5893a254"
      },
      "execution_count": 20,
      "outputs": [
        {
          "output_type": "stream",
          "name": "stdout",
          "text": [
            "alignment:\n",
            " Alignment with 2 rows and 258 columns\n",
            "IAPGQTGKIADYNYKLPDDFTGCVIAWNSNNLDSKVGGNYNYLY...PIG unnamed\n",
            "IAPGQTGKIADYNYKLPDDFTGCVIAWNSNNLDSKVGGNYNYLY...PIG pdb|8ELJ|A\n"
          ]
        }
      ]
    },
    {
      "cell_type": "markdown",
      "source": [
        "# **Entrez**\n",
        "\n",
        "Entrez is a molecular biology database system that provides integrated access to nucleotide and protein sequence data, gene-centered and genomic mapping information, 3D structure data, PubMed MEDLINE, and more. The system is produced by the National Center for Biotechnology Information (NCBI) and is available via the Internet.\n",
        "\n",
        "Entrez covers over 20 databases including the complete protein sequence data from PIR-International, PRF, Swiss-Prot, and PDB and nucleotide sequence data from GenBank that includes information from EMBL and DDBJ.\n",
        "\n",
        "An Entrez global query provides search capability for a subset of Entrez databases at one time. Results may be viewed in various formats inlcuding FlatFile, FASTA, XML, and others. A graphical interface provides easy visualization of complete genomes or chromosomes, as well as biological annotation on individual sequences. Entrez also allows Batch downloads of large search results."
      ],
      "metadata": {
        "id": "hMDFKJ-dOuUn"
      }
    },
    {
      "cell_type": "code",
      "source": [
        "from Bio import Entrez"
      ],
      "metadata": {
        "id": "hfyo4RBpPgdh"
      },
      "execution_count": 21,
      "outputs": []
    },
    {
      "cell_type": "code",
      "source": [
        "Entrez.email= 'harini.ramanan28@gmail.com'"
      ],
      "metadata": {
        "id": "2aY37Nt4Pq9K"
      },
      "execution_count": 23,
      "outputs": []
    },
    {
      "cell_type": "code",
      "source": [
        "handle=Entrez.einfo()\n",
        "record=Entrez.read(handle)\n",
        "record[\"DbList\"]"
      ],
      "metadata": {
        "colab": {
          "base_uri": "https://localhost:8080/"
        },
        "id": "KYZFFhDbQHyT",
        "outputId": "83f037e8-1657-4e71-cc44-dccd115d68c6"
      },
      "execution_count": 25,
      "outputs": [
        {
          "output_type": "execute_result",
          "data": {
            "text/plain": [
              "['pubmed', 'protein', 'nuccore', 'ipg', 'nucleotide', 'structure', 'genome', 'annotinfo', 'assembly', 'bioproject', 'biosample', 'blastdbinfo', 'books', 'cdd', 'clinvar', 'gap', 'gapplus', 'grasp', 'dbvar', 'gene', 'gds', 'geoprofiles', 'medgen', 'mesh', 'nlmcatalog', 'omim', 'orgtrack', 'pmc', 'popset', 'proteinclusters', 'pcassay', 'protfam', 'pccompound', 'pcsubstance', 'seqannot', 'snp', 'sra', 'taxonomy', 'biocollections', 'gtr']"
            ]
          },
          "metadata": {},
          "execution_count": 25
        }
      ]
    },
    {
      "cell_type": "markdown",
      "source": [
        "**PUBMED**"
      ],
      "metadata": {
        "id": "4wBdjmvQQmTl"
      }
    },
    {
      "cell_type": "code",
      "source": [
        "handle=Entrez.einfo(db='pubmed')\n",
        "record=Entrez.read(handle)\n",
        "record['DbInfo']['Description']"
      ],
      "metadata": {
        "colab": {
          "base_uri": "https://localhost:8080/",
          "height": 35
        },
        "id": "04FnsCx7RFzT",
        "outputId": "a3c6fd42-d21c-48e5-9431-a4d439dd6a30"
      },
      "execution_count": 27,
      "outputs": [
        {
          "output_type": "execute_result",
          "data": {
            "text/plain": [
              "'PubMed bibliographic record'"
            ],
            "application/vnd.google.colaboratory.intrinsic+json": {
              "type": "string"
            }
          },
          "metadata": {},
          "execution_count": 27
        }
      ]
    },
    {
      "cell_type": "code",
      "source": [
        "record[\"DbInfo\"][\"Count\"]"
      ],
      "metadata": {
        "colab": {
          "base_uri": "https://localhost:8080/",
          "height": 35
        },
        "id": "_MDGx2nnRZaX",
        "outputId": "f0d754d4-b32a-4690-ba8c-57a7b09f0be7"
      },
      "execution_count": 29,
      "outputs": [
        {
          "output_type": "execute_result",
          "data": {
            "text/plain": [
              "'37480397'"
            ],
            "application/vnd.google.colaboratory.intrinsic+json": {
              "type": "string"
            }
          },
          "metadata": {},
          "execution_count": 29
        }
      ]
    },
    {
      "cell_type": "code",
      "source": [
        "handle = Entrez.esearch(db=\"pubmed\", term=\"biopython\")\n",
        "record = Entrez.read(handle)\n",
        "record[\"IdList\"]"
      ],
      "metadata": {
        "colab": {
          "base_uri": "https://localhost:8080/"
        },
        "id": "OoDO1haJRlGX",
        "outputId": "1f5f44ca-fbad-41e0-b0e9-bf749c93a6bd"
      },
      "execution_count": 31,
      "outputs": [
        {
          "output_type": "execute_result",
          "data": {
            "text/plain": [
              "['38808697', '38650605', '38365590', '38235175', '37810457', '37668712', '36818783', '36245797', '36094101', '35497637', '35496474', '35402671', '34735950', '34484417', '34434786', '34189012', '33994075', '33902722', '33809815', '33242467']"
            ]
          },
          "metadata": {},
          "execution_count": 31
        }
      ]
    },
    {
      "cell_type": "code",
      "source": [
        "handle = Entrez.esummary(db=\"pubmed\", id='38808697, 38650605')\n",
        "records = Entrez.parse(handle)\n",
        "\n",
        "for record in records:\n",
        "    print(record['AuthorList'], record['Title'], record['PubDate'], record['FullJournalName'])"
      ],
      "metadata": {
        "colab": {
          "base_uri": "https://localhost:8080/"
        },
        "id": "YVOPRupkRukj",
        "outputId": "ea68608b-a099-4bbb-9aaa-3e8328061d17"
      },
      "execution_count": 32,
      "outputs": [
        {
          "output_type": "stream",
          "name": "stdout",
          "text": [
            "['Ullah S', 'Rahman W', 'Ullah F', 'Ullah A', 'Ahmad G', 'Ijaz M', 'Ullah H', 'Sharafmal DM'] The HABD: Home of All Biological Databases Empowering Biological Research With Cutting-Edge Database Systems. 2024 May Current protocols\n",
            "['Sulkowski A', 'Bouton C', 'Swanson C'] Syn-CpG-Spacer: A Panel web app for synonymous recoding of viral genomes with CpG dinucleotides. 2024 Apr 3 Journal of open source software\n"
          ]
        }
      ]
    },
    {
      "cell_type": "code",
      "source": [
        "handle = Entrez.efetch(db=\"pubmed\", id=\"19811691\")\n",
        "print(handle.read())"
      ],
      "metadata": {
        "colab": {
          "base_uri": "https://localhost:8080/"
        },
        "id": "mL4RD936R-Sq",
        "outputId": "e05af93c-9a56-47f7-aa59-301fb4eedb71"
      },
      "execution_count": 33,
      "outputs": [
        {
          "output_type": "stream",
          "name": "stdout",
          "text": [
            "b'<?xml version=\"1.0\" ?>\\n<!DOCTYPE PubmedArticleSet PUBLIC \"-//NLM//DTD PubMedArticle, 1st January 2024//EN\" \"https://dtd.nlm.nih.gov/ncbi/pubmed/out/pubmed_240101.dtd\">\\n<PubmedArticleSet>\\n<PubmedArticle><MedlineCitation Status=\"MEDLINE\" Owner=\"NLM\"><PMID Version=\"1\">19811691</PMID><DateCompleted><Year>2010</Year><Month>02</Month><Day>12</Day></DateCompleted><DateRevised><Year>2021</Year><Month>10</Month><Day>20</Day></DateRevised><Article PubModel=\"Electronic\"><Journal><ISSN IssnType=\"Electronic\">1471-2105</ISSN><JournalIssue CitedMedium=\"Internet\"><Volume>10 Suppl 11</Volume><Issue>Suppl 11</Issue><PubDate><Year>2009</Year><Month>Oct</Month><Day>08</Day></PubDate></JournalIssue><Title>BMC bioinformatics</Title><ISOAbbreviation>BMC Bioinformatics</ISOAbbreviation></Journal><ArticleTitle>Exploratory visual analysis of conserved domains on multiple sequence alignments.</ArticleTitle><Pagination><StartPage>S7</StartPage><MedlinePgn>S7</MedlinePgn></Pagination><ELocationID EIdType=\"doi\" ValidYN=\"Y\">10.1186/1471-2105-10-S11-S7</ELocationID><Abstract><AbstractText Label=\"BACKGROUND\" NlmCategory=\"BACKGROUND\">Multiple alignment of protein sequences can provide insight into sequence conservation across many species and thus allow identification of those sections of the sequence most critical to protein function. This insight can be augmented by joint display of conserved domains along the sequences. By fusing this metadata visually, biologists can analyze sequence conservation and functional motifs simultaneously and efficiently.</AbstractText><AbstractText Label=\"RESULTS\" NlmCategory=\"RESULTS\">We present MSAVis, a new approach combining luminance and hue for simultaneous visualization of conserved motifs and sequence alignment. Input for the algorithm is a multiple sequence alignment in a standard format. The NCBI Conserved Domain Database (CDD) is used for finding conserved domains along the alignment. The visualization quickly identifies conserved domains, and allows both macro (sequence-long) and micro (small amino-acid neighborhood) views.</AbstractText><AbstractText Label=\"CONCLUSION\" NlmCategory=\"CONCLUSIONS\">MSAVis utilizes two visual cues, luminance and hue, to facilitate at-a-glance summary of the conservation of a user-provided protein alignment while enabling multiple comparisons among functional domains. These visual cues are preattentive and separable so that the relationship between conservation strength and domain membership can be understood. The MSAVis software, written in Python and using BioPython and OpenGL, can be found at http://agbase.msstate.edu/tools/MSAVis.html.</AbstractText></Abstract><AuthorList CompleteYN=\"Y\"><Author ValidYN=\"Y\"><LastName>Jankun-Kelly</LastName><ForeName>T J</ForeName><Initials>TJ</Initials><AffiliationInfo><Affiliation>Institute for Digital Biology and Department of Computer Science and Engineering, Bagley College of Engineering, Mississippi State University, Mississippi, USA. tjk@acm.org</Affiliation></AffiliationInfo></Author><Author ValidYN=\"Y\"><LastName>Lindeman</LastName><ForeName>Andrew D</ForeName><Initials>AD</Initials></Author><Author ValidYN=\"Y\"><LastName>Bridges</LastName><ForeName>Susan M</ForeName><Initials>SM</Initials></Author></AuthorList><Language>eng</Language><PublicationTypeList><PublicationType UI=\"D016428\">Journal Article</PublicationType><PublicationType UI=\"D013486\">Research Support, U.S. Gov\\'t, Non-P.H.S.</PublicationType></PublicationTypeList><ArticleDate DateType=\"Electronic\"><Year>2009</Year><Month>10</Month><Day>08</Day></ArticleDate></Article><MedlineJournalInfo><Country>England</Country><MedlineTA>BMC Bioinformatics</MedlineTA><NlmUniqueID>100965194</NlmUniqueID><ISSNLinking>1471-2105</ISSNLinking></MedlineJournalInfo><ChemicalList><Chemical><RegistryNumber>0</RegistryNumber><NameOfSubstance UI=\"D011506\">Proteins</NameOfSubstance></Chemical></ChemicalList><CitationSubset>IM</CitationSubset><MeshHeadingList><MeshHeading><DescriptorName UI=\"D000595\" MajorTopicYN=\"N\">Amino Acid Sequence</DescriptorName></MeshHeading><MeshHeading><DescriptorName UI=\"D019295\" MajorTopicYN=\"N\">Computational Biology</DescriptorName><QualifierName UI=\"Q000379\" MajorTopicYN=\"Y\">methods</QualifierName></MeshHeading><MeshHeading><DescriptorName UI=\"D030562\" MajorTopicYN=\"N\">Databases, Protein</DescriptorName></MeshHeading><MeshHeading><DescriptorName UI=\"D008969\" MajorTopicYN=\"N\">Molecular Sequence Data</DescriptorName></MeshHeading><MeshHeading><DescriptorName UI=\"D017434\" MajorTopicYN=\"Y\">Protein Structure, Tertiary</DescriptorName></MeshHeading><MeshHeading><DescriptorName UI=\"D011506\" MajorTopicYN=\"N\">Proteins</DescriptorName><QualifierName UI=\"Q000737\" MajorTopicYN=\"N\">chemistry</QualifierName></MeshHeading><MeshHeading><DescriptorName UI=\"D016415\" MajorTopicYN=\"Y\">Sequence Alignment</DescriptorName></MeshHeading><MeshHeading><DescriptorName UI=\"D020539\" MajorTopicYN=\"N\">Sequence Analysis, Protein</DescriptorName><QualifierName UI=\"Q000379\" MajorTopicYN=\"Y\">methods</QualifierName></MeshHeading></MeshHeadingList></MedlineCitation><PubmedData><History><PubMedPubDate PubStatus=\"entrez\"><Year>2009</Year><Month>10</Month><Day>9</Day><Hour>6</Hour><Minute>0</Minute></PubMedPubDate><PubMedPubDate PubStatus=\"pubmed\"><Year>2009</Year><Month>10</Month><Day>14</Day><Hour>6</Hour><Minute>0</Minute></PubMedPubDate><PubMedPubDate PubStatus=\"medline\"><Year>2010</Year><Month>2</Month><Day>13</Day><Hour>6</Hour><Minute>0</Minute></PubMedPubDate><PubMedPubDate PubStatus=\"pmc-release\"><Year>2009</Year><Month>10</Month><Day>8</Day></PubMedPubDate></History><PublicationStatus>epublish</PublicationStatus><ArticleIdList><ArticleId IdType=\"pubmed\">19811691</ArticleId><ArticleId IdType=\"pmc\">PMC3226196</ArticleId><ArticleId IdType=\"doi\">10.1186/1471-2105-10-S11-S7</ArticleId><ArticleId IdType=\"pii\">1471-2105-10-S11-S7</ArticleId></ArticleIdList><ReferenceList><Reference><Citation>Larkin M, Blackshields G, Brown N, Chenna R, McGettigan P, McWilliam H, Valentin F, Wallace I, Wilm A, Lopez R, Thompson J, Gibson T, Higgins D. ClustalW and ClustalX version 2. Bioinformatics. 2007;23(21):2947&#x2013;2948. doi: 10.1093/bioinformatics/btm404.</Citation><ArticleIdList><ArticleId IdType=\"doi\">10.1093/bioinformatics/btm404</ArticleId><ArticleId IdType=\"pubmed\">17846036</ArticleId></ArticleIdList></Reference><Reference><Citation>A Conserved Domain Database and Search Service. http://www.ncbi.nlm.nih.gov/Structure/cdd/cdd.shtml</Citation></Reference><Reference><Citation>Marchler-Bauer A, Anderson J, Cherukuri P, DeWeese-Scott C, Geer L, Gwadz M, He S, Hurwitz D, Jackson J, Ke Z, Lanczycki C, Liebert C, Liu C, Lu F, Marchler G, Mullokandov M, Shoemaker B, Simonyan V, Song J, Thiessen P, Yamashita R, Yin J, Zhang D, Bryant S. CDD: A Conserved Domain Database for protein classification. Nucleic Acids Research. 2005. pp. D192&#x2013;D196.</Citation><ArticleIdList><ArticleId IdType=\"pmc\">PMC540023</ArticleId><ArticleId IdType=\"pubmed\">15608175</ArticleId></ArticleIdList></Reference><Reference><Citation>Lungu M, Xu K.  In: Human-Centered Visualization Environments, Volume 4417 of Lecture Notes in Computer Science. Kerren A, Ebert A, Meyer J, editor. Springer; 2006. Biomedical Information Visualization; pp. 311&#x2013;342.http://dx.doi.org/10.1007/978-3-540-71949-6_8</Citation><ArticleIdList><ArticleId IdType=\"doi\">10.1007/978-3-540-71949-6_8</ArticleId></ArticleIdList></Reference><Reference><Citation>Schneider TD, Stephens RM. Sequence Logos: A New Way to Display Consensus Sequences. Nucleic Acids Research. 1990;18:6097&#x2013;6100. doi: 10.1093/nar/18.20.6097.</Citation><ArticleIdList><ArticleId IdType=\"doi\">10.1093/nar/18.20.6097</ArticleId><ArticleId IdType=\"pmc\">PMC332411</ArticleId><ArticleId IdType=\"pubmed\">2172928</ArticleId></ArticleIdList></Reference><Reference><Citation>Slack J, Hildebrand K, Munzner T, John KS. In: Proceedings of the German Conference on Bioinformatics. Giegerich R, Stoye J, editor. Vol. 53. 2004. SequenceJuxtaposer: Fluid Navigation For Large-Scale Sequence Comparison in Context; pp. 37&#x2013;42.</Citation></Reference><Reference><Citation>Mayor C, Brudno M, Schwartz JR, Poliakov A, Rubin EM, Frazer KA, Pachter LS, Dubchak I. VISTA: Visualizing Global DNA Sequence Alignments of Arbitrary Length. Bioinformatics. 2000;16(11):1046&#x2013;1047. doi: 10.1093/bioinformatics/16.11.1046.</Citation><ArticleIdList><ArticleId IdType=\"doi\">10.1093/bioinformatics/16.11.1046</ArticleId><ArticleId IdType=\"pubmed\">11159318</ArticleId></ArticleIdList></Reference><Reference><Citation>Shah N, Couronne O, Pennacchio LA, Brudno M, Batzoglou S, Bethel EW, Rubin EM, Hamann B, Dubchak I. Phylo-VISTA: Interactive visualization of multiple DNA sequence alignments. Bioinformatics. 2004;20(5):636&#x2013;643. doi: 10.1093/bioinformatics/btg459.</Citation><ArticleIdList><ArticleId IdType=\"doi\">10.1093/bioinformatics/btg459</ArticleId><ArticleId IdType=\"pubmed\">15033870</ArticleId></ArticleIdList></Reference><Reference><Citation>Spell R, Brady R, Dietrich F. BARD: A visualization tool for biological sequence analysis. IEEE Symposium on Information Visualization 2003. 2003. pp. 219&#x2013;225.</Citation></Reference><Reference><Citation>InterPro. http://www.ebi.ac.uk/interpro/</Citation></Reference><Reference><Citation>Hunter S, Apweiler R, Attwood TK, Bairoch A, Bateman A, Binns D, Bork P, Das U, Daugherty L, Duquenne L, Finn RD, Gough J, Haft D, Hulo N, Kahn D, Kelly E, Laugraud A, Letunic I, Lonsdale D, Lopez R, Madera M, Maslen J, McAnulla C, McDowall J, Mistry J, Mitchell A, Mulder N, Natale D, Orengo C, Quinn AF, Selengut JD, Sigrist CJA, Thimma M, Thomas PD, Valentin F, Wilson D, Wu CH, Yeats C. InterPro: The integrative protein signature database. Nucleic Acids Research. 2009. pp. D211&#x2013;D215.</Citation><ArticleIdList><ArticleId IdType=\"doi\">10.1093/nar/gkn785</ArticleId><ArticleId IdType=\"pmc\">PMC2686546</ArticleId><ArticleId IdType=\"pubmed\">18940856</ArticleId></ArticleIdList></Reference><Reference><Citation>Consortium TU. The Universal Protein Resource (UniProt) Nucleic Acids Research. 2008. pp. D190&#x2013;D195.</Citation><ArticleIdList><ArticleId IdType=\"pmc\">PMC2238893</ArticleId><ArticleId IdType=\"pubmed\">18045787</ArticleId></ArticleIdList></Reference><Reference><Citation>UniProt. http://www.uniprot.org/</Citation></Reference><Reference><Citation>Clamp M, Cuff J, Searle S, Barton G. The Jalview Java alignment editor. Bioinformatics. 2004;20(3):426&#x2013;427. doi: 10.1093/bioinformatics/btg430.</Citation><ArticleIdList><ArticleId IdType=\"doi\">10.1093/bioinformatics/btg430</ArticleId><ArticleId IdType=\"pubmed\">14960472</ArticleId></ArticleIdList></Reference><Reference><Citation>Felsensein J. PHYLIP. http://evolution.genetics.washington.edu/phylip.html</Citation></Reference><Reference><Citation>Henikoff S, Henikoff JG. Amino acid substitution matrices from protein blocks. Proc Natl Acad Sci USA. 1992;89(22):10915&#x2013;10919. doi: 10.1073/pnas.89.22.10915.</Citation><ArticleIdList><ArticleId IdType=\"doi\">10.1073/pnas.89.22.10915</ArticleId><ArticleId IdType=\"pmc\">PMC50453</ArticleId><ArticleId IdType=\"pubmed\">1438297</ArticleId></ArticleIdList></Reference><Reference><Citation>McLaren K. The development of the CIE 1976 (L*a*b*) uniform colour-space and colour-difference formula. Journal of the Society of Dyers and Colourists. 1976;92:338&#x2013;341.</Citation></Reference><Reference><Citation>Ware C. Information Visualization: Perception for Design. 2. Morgan Kaufmann; 2004.</Citation></Reference><Reference><Citation>Pirolli P, Card SK. Information Foraging. Psychological Review. 1999;4:643&#x2013;674. doi: 10.1037/0033-295X.106.4.643.</Citation><ArticleIdList><ArticleId IdType=\"doi\">10.1037/0033-295X.106.4.643</ArticleId></ArticleIdList></Reference><Reference><Citation>Cock P, Antao T, Chang J, Chapman B, Cox C, Dalke A, Friedberg I, Hamelryck T, Kauff F, Wilczynski B, de Hoon M. Biopython: Freely available Python tools for computational molecular biology and bioinformatics. Bioinformatics. 2009;25(11):1422&#x2013;1423. doi: 10.1093/bioinformatics/btp163.</Citation><ArticleIdList><ArticleId IdType=\"doi\">10.1093/bioinformatics/btp163</ArticleId><ArticleId IdType=\"pmc\">PMC2682512</ArticleId><ArticleId IdType=\"pubmed\">19304878</ArticleId></ArticleIdList></Reference><Reference><Citation>PyOpenGL. http://pyopengl.sourceforge.net/</Citation></Reference><Reference><Citation>wxPython. http://wxpython.org/</Citation></Reference><Reference><Citation>McCarthy F, Wang N, Magee G, Nanduri B, Lawrence M, Camon E, Burrell D, Hill D, Dolan M, Williams W, Luthe D, Bridges S, Burgess S. AgBase: A Functional Genomics Resource for Agriculture. BMC Genomics. 2006;7(229)</Citation><ArticleIdList><ArticleId IdType=\"pmc\">PMC1618847</ArticleId><ArticleId IdType=\"pubmed\">16961921</ArticleId></ArticleIdList></Reference><Reference><Citation>MSAVis. http://agbase.msstate.edu/tools/MSAVis.html</Citation></Reference><Reference><Citation>Bailey TL, Boden M, Buske FA, Frith M, Grant CE, Clementi L, Ren J, Li WW, Noble WS. MEME SUITE: Tools for motif discovery and searching. Nucleic Acids Research. 2009. http://dx.doi.org/10.1093/nar/gkp335</Citation><ArticleIdList><ArticleId IdType=\"doi\">10.1093/nar/gkp335</ArticleId><ArticleId IdType=\"pmc\">PMC2703892</ArticleId><ArticleId IdType=\"pubmed\">19458158</ArticleId></ArticleIdList></Reference><Reference><Citation>The MEME Suite. http://meme.nbcr.net/</Citation></Reference><Reference><Citation>Nicholas KB, Nicholas HB, Deerfield DW. GeneDoc: Analysis and visualization of genetic variation. EMBNEW NEWS. 1997;4:14.</Citation></Reference><Reference><Citation>GeneDoc. http://www.nrbsc.org/gfx/genedoc/</Citation></Reference><Reference><Citation>Hall T. BioEdit Sequence Alignment Editor. http://www.mbio.ncsu.edu/BioEdit/bioedit.html</Citation></Reference></ReferenceList></PubmedData></PubmedArticle></PubmedArticleSet>'\n"
          ]
        }
      ]
    },
    {
      "cell_type": "markdown",
      "source": [
        "**Nucleotide**"
      ],
      "metadata": {
        "id": "OS7jYBjsTk_t"
      }
    },
    {
      "cell_type": "code",
      "source": [
        "handle=Entrez.esearch(db='nucleotide', retmax=10, term=\"Severe acute respiratory syndrome\")\n",
        "record=Entrez.read(handle)\n",
        "record['IdList']"
      ],
      "metadata": {
        "colab": {
          "base_uri": "https://localhost:8080/"
        },
        "id": "ArX-G9FOTqDY",
        "outputId": "642a5575-bfd5-4ff1-c0f1-9de73c688b14"
      },
      "execution_count": 35,
      "outputs": [
        {
          "output_type": "execute_result",
          "data": {
            "text/plain": [
              "['2756426548', '2756426535', '2756426522', '2756426509', '2756426496', '2756426483', '2756426470', '2756426457', '2756426444', '2756426431']"
            ]
          },
          "metadata": {},
          "execution_count": 35
        }
      ]
    },
    {
      "cell_type": "code",
      "source": [
        "handle = Entrez.efetch(db=\"nucleotide\", id='2756426548', rettype=\"gb\", retmode=\"text\")\n",
        "print(handle.read())"
      ],
      "metadata": {
        "colab": {
          "base_uri": "https://localhost:8080/"
        },
        "collapsed": true,
        "id": "D1PxXvPkUT1J",
        "outputId": "94f71a35-ecdc-4e4e-f500-fc4c41004d8d"
      },
      "execution_count": 36,
      "outputs": [
        {
          "output_type": "stream",
          "name": "stdout",
          "text": [
            "LOCUS       PQ008439               29646 bp    RNA     linear   VRL 11-JUL-2024\n",
            "DEFINITION  Severe acute respiratory syndrome coronavirus 2 isolate\n",
            "            SARS-CoV-2/human/USA/CA-CDPH-500138914/2024 ORF1ab polyprotein\n",
            "            (ORF1ab), ORF1a polyprotein (ORF1ab), surface glycoprotein (S),\n",
            "            ORF3a protein (ORF3a), envelope protein (E), membrane glycoprotein\n",
            "            (M), ORF6 protein (ORF6), ORF7a protein (ORF7a), ORF7b (ORF7b),\n",
            "            ORF8 protein (ORF8), nucleocapsid phosphoprotein (N), and ORF10\n",
            "            protein (ORF10) genes, complete cds.\n",
            "ACCESSION   PQ008439\n",
            "VERSION     PQ008439.1\n",
            "DBLINK      BioProject: PRJNA750736\n",
            "            BioSample: SAMN42438233\n",
            "KEYWORDS    .\n",
            "SOURCE      Severe acute respiratory syndrome coronavirus 2 (SARS-CoV-2)\n",
            "  ORGANISM  Severe acute respiratory syndrome coronavirus 2\n",
            "            Viruses; Riboviria; Orthornavirae; Pisuviricota; Pisoniviricetes;\n",
            "            Nidovirales; Cornidovirineae; Coronaviridae; Orthocoronavirinae;\n",
            "            Betacoronavirus; Sarbecovirus; Severe acute respiratory\n",
            "            syndrome-related coronavirus.\n",
            "REFERENCE   1  (bases 1 to 29646)\n",
            "  AUTHORS   Smith,E.A.\n",
            "  TITLE     Direct Submission\n",
            "  JOURNAL   Submitted (11-JUL-2024) IDLB VRDL/COVIDNet, California Department\n",
            "            of Public Health, 850 Marina Bay Blvd, Richmond, CA 94804, USA\n",
            "COMMENT     ##Assembly-Data-START##\n",
            "            Assembly Method       :: ClearLabs BIP-W v. v7\n",
            "            Sequencing Technology :: Oxford Nanopore\n",
            "            ##Assembly-Data-END##\n",
            "FEATURES             Location/Qualifiers\n",
            "     source          1..29646\n",
            "                     /organism=\"Severe acute respiratory syndrome coronavirus\n",
            "                     2\"\n",
            "                     /mol_type=\"genomic RNA\"\n",
            "                     /isolate=\"SARS-CoV-2/human/USA/CA-CDPH-500138914/2024\"\n",
            "                     /isolation_source=\"clinical\"\n",
            "                     /host=\"Homo sapiens\"\n",
            "                     /db_xref=\"taxon:2697049\"\n",
            "                     /geo_loc_name=\"USA: California\"\n",
            "                     /collection_date=\"2024-06-05\"\n",
            "     gene            212..21492\n",
            "                     /gene=\"ORF1ab\"\n",
            "     CDS             join(212..13405,13405..21492)\n",
            "                     /gene=\"ORF1ab\"\n",
            "                     /ribosomal_slippage\n",
            "                     /codon_start=1\n",
            "                     /product=\"ORF1ab polyprotein\"\n",
            "                     /protein_id=\"XCO51364.1\"\n",
            "                     /translation=\"MESLVPGFNEKTHVQLSLPVLQVRDVLVRGFGDSVEEVLSEARQ\n",
            "                     HLKDGTCGLVEVEKGVLPQLEQPYVFIKRSDARTAPHGHVMVELVAELEGIQYGRSGE\n",
            "                     TLGVLVPHVGEIPVAYRKVLLRKNGNKGAGGHRYGADLKSFDLGDELXXXXXXDFQEN\n",
            "                     WNTKHSSGVTRELMRELNGGAYTRYVDNNFCGPDGYPLECIKDLLARAGKASCTLSEQ\n",
            "                     LDFIDTKRGVYCCREHEHEIAWYTERSEKSYELQTPFEIKLAKKFDTFNGECPNFVFP\n",
            "                     LNSIIKTIQPRVEKKKLDGFMGRIRSVYPVASPNECNQMCLSTLMKCDHCGETSWQTG\n",
            "                     DFVKATCEFCGTENLTKEGATTCGYLPQNAVVKIYCPACHNSEVGPEHSLAEYHNESG\n",
            "                     LKTILRKGGRTIAFGGCVFSYVGCHNKCAYWVPRASANIGCNHTGVVGEGSEGLNDNL\n",
            "                     LEILQKEKVNINIVGDFKLNEEIAIILASFSASTSAFVETVKGLDYKAFKQIVESCGN\n",
            "                     FKVTKGKAKKGAWNIGEQKSILSPLYAFASEAARVVRSIFSRTLETAQNSVRVLQKAA\n",
            "                     ITILDGISQYSLRLIDAMMFTSDLATNNLVVMAYITGGVVQLTSQWLTNIFGTVYEKL\n",
            "                     KPVLDWLEEKFKEGVEFLRDGWEIVKFISTCACEIVGGQIVTCAKEIKESVQTFFKLV\n",
            "                     NKFLALCADSIIIGGAKLKALNLGETFVTHSKGLYRKCVKSREETGLLMPLKAPKEII\n",
            "                     FLEGETLPTEVLTEEVVLKTGDLQPLEQPTSEAVEAPLVGTPVCINGLMLLEIKDTEK\n",
            "                     YCALAPNMMVTNNTFTLKGGAPTKVTFGDDTVIEVQGYKSVNIIFELDERIDKVLNEK\n",
            "                     CSAYTVELGTEVNEFACVVADAVIKTLQPVSELLTPLGIDLDEWSMATYYLFDESGEF\n",
            "                     KLASHMYCSFYPPDEDEEEGDCEEEEFEPSTQYEYGTEDDYQGKPLEFGATSAALQPE\n",
            "                     EEQEEDWLDDDSQQTVGQQDGSEDNQTTTIQTIVEVQPQLEMELTPVVQTIEVNSFSG\n",
            "                     YLKLTDNVYIKNADIVEEAKKVKPTLVVNAANVYLKHGGGVAGALNKATNNAMQVESD\n",
            "                     DYIATNGPLKVGGSCVLSGHNLAKHCLHVVGPNVNKGEDIQLLKSAYENFNQHEVLLA\n",
            "                     PLLSAGIFGADPIHSLRVCVDTVRTNVYLAVFDKNLYDKLVSSFLEMKSEKQVEQKIA\n",
            "                     EIPKEEVKPFITESKPSVEQRKQDDKKIKACVEEVTTTLEETKFLTENLLLYIDINGN\n",
            "                     LHPDSATLVSDIDITFLKKDAPYIVGDVVQEGVLTAVVIPTKKASGTTEMLAKALRKV\n",
            "                     PTDNYITTYPGQGLNGYTVEEAKTVLKKCKSAFYILPSIISNEKQEILGTVSWNLREM\n",
            "                     LAHAEETRKLMPVCVETKAIVSTIQRKYKGIKIQEGVVDYGARFYFYTSKTTVASLIN\n",
            "                     TLNDLNETLVTMPLGYVTHGLNLEEAARYMRSLKVPATVSVSSPDAVTAYNGYLTSSS\n",
            "                     KTPEEHFIETISFAGSYKDWSYSGQSTQLGIEFLKRGDKSVYYTSNPTTFHLDGEVIT\n",
            "                     FDNLKTLLSLREVRTIKVFTTVDNINLHTQVVDMSMTYGQQFGPTYLDGADVTKIKPH\n",
            "                     NSHEGKTFYVLPNDDTLRVEAFEYYHTTDPSFLGRYMSALNHTKKWKYPQVNGLTSIK\n",
            "                     WADNNCYLATALLTLQQIELKFNPPALQDAYYRARAGEAANFCALILAYCNKTVGELG\n",
            "                     DVRETMSYLFQHANLDSCKRVLNVVCKTCGQQQTTLKGVEAVMYMGTLSYEQFKKGVQ\n",
            "                     IPCTCGKQATKYLVQQESPFVMMSAPPAQYELKHGTFTCASEYTGNYQCGHYKHITSK\n",
            "                     ETLYCIDGALLTKSSEYKGPITDVFYKENSYTTTIKPVTYKLDGVVCTEIDPKLDNYY\n",
            "                     KKDNSYFTEQPIDLVPNQPYPNASFDNFKFVCDNIKFADDLNQLTGYKKPASRELKVT\n",
            "                     FFPDLNGDVVAIDYRHYTPSFKKGAKLLHKPIVWHVNNATNKATYKPNTWCIRCLWST\n",
            "                     KPVETSNSFDVLKSEDAQGMDNLACEDLKPVSEEVVENPTIQKDVLECNVKTTEVVGD\n",
            "                     IILKPANNSLKITEEVGHTDLMAAYVDNSSLTIKKPNELSRVLGLKTLATHGLAAVNS\n",
            "                     VPWDTIANYAKPFLNKVVSTTTNIVTRCLNRVCTNYMPYFFTLLLQLCTFTRSTNSRI\n",
            "                     KASMPTTIAKNTVKSVGKFCLEASFNYLKSPNFSKLINIIIWFLLLSVCLGSLIYSTA\n",
            "                     ALGVLMSNLGMPSYCTGYREGYLNSTNVTIATYCTGSIPCSVCLSGLDSLDTYPSLET\n",
            "                     IQITISSFKWDLTAFGLVAEWFLAYILFTRFFYVLGLAAIMQLFFSYFAVHFISNSWL\n",
            "                     MWLIINLVQMAPISAMVRMYIFFASFYYVWKSYVHVVDGCNSSTCMMCYKRNRATRVE\n",
            "                     CTTIVNGVRRSFYVYANGGKGFCKLHNWNCVNCDTFCAGSTFISDEVARDLSLQFKRP\n",
            "                     INPTDQSSYIVDSVTVKNGSIHLYFDKAGQKTYERHSLSHFVNLDSLRANNTKGSLPI\n",
            "                     NVIVFDGKSKCEESSAKSASVYYSQLMCQPILLLDQALVSDVGDSAEVAVKMFDAYVN\n",
            "                     TFSSTFNVPMEKLKTLVATAEAELAKNVSLDNVLSTFISAARQGFVDSDVETKDVVEC\n",
            "                     LKLSHQSDIEVTGDSCNNYMLTYNKVENMTPRDLGACIDCSARHINAQVAKSHNITLI\n",
            "                     WNVKDFMSLSEQLRKQIRSAAKKNNLPFKLTCATTRQVVNVVTTKIALKGGKIVNNWL\n",
            "                     KQLIKVTLVFLFVAAIFYLITPVHVMSKHTDFSSEIIGYKAIDGGVTRDIASTDTCFA\n",
            "                     NKHADFDTWFSQRGGSYTNDKACPLIAAVITREVGFVVPGLPGTILRTTNGDFLHFLP\n",
            "                     RVFSAVGNICYTPSKLIEYTDFATSACVLAAECTIFKDASGKPVPYCYDTNVLEGSVA\n",
            "                     YESLRPDTRYVLMDGSIIQFPNTYLEGSVRVVTTFDSEYCRHGTCERSEAGVCVSTSG\n",
            "                     RWVLNNDYYRSLPGVFCGVDAVNLFTNMFTPLIQPIGALDISASIVAGGIVAIVVTCL\n",
            "                     AYYFMRFRRAFGEYSHVVAFNTLLFLMSFIVLCLTPVYSFLPGVYSVIYLYLTFYLTN\n",
            "                     DVSFLAHIQWMVMFTPLVPFWITIAYIICISTKHFYWFFSNYLKRRVVFNGVSFSTFE\n",
            "                     EAALCTFLLNKEMYLKLRSDVLLPLTQYNRYLALYNKYKYFSGAMDTTSYREAACCHL\n",
            "                     AKALNDFSNSGSDVLYQPPQISITSAVLQSGFRKMAFPSGKVEGCMVQVTCGTTTLNG\n",
            "                     LWLDDVVYCPRHVICTSEDMLNPNYEDLLIRKSNHNFLVQAGNVQLRVIGHSMQNCVL\n",
            "                     KLKVDTANPKTPKYKFVRIQPGQTFSVLACYNGSPSGVYQCAMRHNFTIKGSFLNGSC\n",
            "                     GSVGFNIDYDCVSFCYMHHMELPTGVHAGTDLEGNFYGPFVDRQTAQAAGTDTTITVN\n",
            "                     VLAWLYAAVINGDRWFLNRFTTTLNDFNLVAMKYNYEPLTQDHVDILGPLSAQTGIAV\n",
            "                     LDMCASLKELLQNGMNGRTILGSALLEDEFTPFDVVRQCSGVTFQSAVKRTIKGTHHW\n",
            "                     LLLTILTSLLFLVQSTQWSLFFFLYENAFLPFAMGIIAMSAFAMMFVKHKHAFLCLFL\n",
            "                     LPSLATVAYFNMVYMPASWVMRIMTWLDMVDTSLKLKDCVMYASAVVLLILMTARTVY\n",
            "                     DDGARRVWTLMNVLTLVYKVYYGNALDQAISMWALIISVTSNYSGVVTTVMFLARGIV\n",
            "                     FMCVEYCPIFFITGNTLQCIMLVYCFLGYFCTCYFGLFCLLNRYFRLTLGVYDYLVST\n",
            "                     QEFKYMNSQGLLPPKNSIDAFKLNIKLLGVGGKPCIKVATVQSKMSDVKCTSVVLLSV\n",
            "                     LQQLRVESSSKLWAQCVQLHNDILLAKDTTEAFEKMVSLLSVLLSMQGAVDINKLCEE\n",
            "                     MLDNRATLQAIASEFSSLPSYAAFATAQEAYEQAVANGDSEVVLKKLKKSLNVAKSEF\n",
            "                     DRDAAMQRKLEKMADQAMTQMYKQARSEDKRAKVTSAMQTMLFTMLRKLDNDALNNII\n",
            "                     NNARDGCVPLNIIPLTTAAKLMVVIPDYNTYKNTCDGTTFTYASALWEIQQVVDADSK\n",
            "                     IVQLSEISMDNSPNLAWPLIVTALRANSAVKLQNNELSPVALRQMSCAAGTTQTACTD\n",
            "                     DNALAYYNTIKGGRFVLALLSDLQDLKWARFPKSDGTGTIYTELEPPCRFVTDTPKGP\n",
            "                     KVKYLYFIKGLNNLNRGMVLGSLAATVRLQAGNATEVPANSTVLSFCAFAVDAAKAYK\n",
            "                     DYLASGGQPITNCVKMLCTHTGTGQAITVTPEANMDQESFGGASCCLYCRCHIDHPNP\n",
            "                     KGFCDLKGKYVQIPTTCANDPVGFTLKNTVCTVCGMWKGYGCSCDQLREPMLQSADAQ\n",
            "                     SFLNRVCGVSAARLTPCGTGTSTDVVYRAFDIYNDKVAGFAKFLKTNCCRFQEKDEDD\n",
            "                     NLIDSYFVVKRHTFSNYQHEETIYNLLKDCPAVAKHDFFKFRIDGDMVPHISRQRLTK\n",
            "                     YTMADLVYALRHFDEGNCDTLKEILVTYNCCDDDYFNKKDWYDFVENPDILRVYANLG\n",
            "                     ERVRQALLKTVQFCDAMRNAGIVGVLTLDNQDLNGNWYDFGDFIQTTPGSGVPVVDSY\n",
            "                     YSLLMPILTLTRALTAESHVDTDLTKPYIKWDLLKYDFTEERLKLFDRYFKYWDQTYH\n",
            "                     PNCVNCLDDRCILHCANFNVLFSTVFPLTSFGPLVRKIFVDGVPFVVSTGYHFRELGV\n",
            "                     VHNQDVNLHSSRLSFKELLVYAADPAMHAASGNLLLDKRTTCFSVAALTNNVAFQTVK\n",
            "                     PGNFNKDFYDFAVSKGFFKEGSSVELKHFFFAQDGNAAISDYDYYRYNLPTMCDIRQL\n",
            "                     LFVVEVVDKYFDCYDGGCINANQVIVNNLDKSAGFPFNKWGKARLYYDSMSYEDQDAL\n",
            "                     FAYTKRNVIPTITQMNLKYAISAKNRARTVAGVSICSTMTNRQFHQKLLKSIAATRGA\n",
            "                     TVVIGTSKFYGGWHNMLKTVYSDVENPHLMGWDYPKCDRAMPNMLRIMASLVLARKHT\n",
            "                     TCCSLSHRFYRLANECAQVLSEMVMCGGSLYVKPGGTSSGDATTAYANSVFNICQAVT\n",
            "                     ANVNALLSTDGNKIADKYVRNLQHRLYECLYRNRDVDTDFVNEFYAYLRKHFSMMILS\n",
            "                     DDAVVCFNSTYASQGLVASIKNFKSVLYYQNNVFMSEAKCWTETDLTKGPHEFCSQHT\n",
            "                     MLVKQGDDYVYLPYPDPSRILGAGCFVDDIVKTDGTLMIERFVSLAIDAYPLTKHPNQ\n",
            "                     EYADVFHLYLQYIRKLHDELTGHMLDMYSVMLTNDNTSRYWEPEFYEAMYTPHTVLQA\n",
            "                     VGACVLCNSQTSLRCGACIRRPFLCCKCCYDHVISTSHKLVLSVNPYVCNAPGCDVTD\n",
            "                     VTQLYLGGMSYYCKSHKPPISFPLCANGQVFGLYKNTCVGSDNVTDFNAIATCDWTNA\n",
            "                     GDYILANTCTERLKLFAAETLKATEETFKLSYGIATVREVLSDRELHLSWEVGKPRPP\n",
            "                     LNRNYVFTGYRVTKNSKVQIGEYTFEKGDYGDAVVYRGTTTYKLNVGDYFVLTSHTVM\n",
            "                     PLSAPTLVPQEHYVRITGLYPTLNISDEFSSNVANYQKVGMQKYSTLQGPPGTGKSHF\n",
            "                     AIGLALYYPSARIVYTACSHAAVDALCEKALKYLPIDKCSRIIPARARVECFDKFKVN\n",
            "                     STLEQYVFCTVNALPETTADIVVFDEISMATNYDLSVVNARLCAKHYVYIGDPAQLPA\n",
            "                     PRTLLTKGTLEPEYFNSVCRLMKTIGPDMFLGTCRRCPAEIVDTVSALVYDNKLKAHK\n",
            "                     DKSAQCFKMFYKGVITHDVSSAINRPQIGVVREFLTRNPAWRKAVFISPYNSQNAVAS\n",
            "                     KILGLPTQTVDSSQGSEYDYVIFTQTTETAHSCNVNRFNVAITRAKVGILCIMSDRDL\n",
            "                     YDKLQFTSLEIPRRNVATLQAENVTGLFKDCSKVITGLHPTQAPTHLSVDTKFKTEGL\n",
            "                     CVDVPGIPKDMTYRRLISMMGFKMNYQVNGYPNMFITREEAIRHVRAWIGFDVEGCHA\n",
            "                     TREAVGTNLPLQLGFSTGVNLVAVPTGYVDTPNNTDFSRVSAKPPPGDQFKHLIPLMY\n",
            "                     KGLPWNVVRIKIVQMLSDTLKNLSDRVVFVLWAHGFELTSMKYFVKIGPERTCCLCDR\n",
            "                     RATCFSTASDTYACWHHSIGFDYVYNPFMIDVQQWGFTGNLQSNHDLYCQVHGNAHVA\n",
            "                     SCDAIMTRCLAVHECFVKRVDWTIEYPIIGDELKINAACRKVQHMVVKAALLADKFPV\n",
            "                     LHDIGNPKAIKCVPQADVEWKFYDAQPCSDKAYKIEELFYSYATHSDKFTDGVCLFWN\n",
            "                     CNVDRYPANSIVCRFDTRVLSNLNLPGCDGGSLYVNKHAFHTPAFDKSAFVNLKQLPF\n",
            "                     FYYSDSPCESHGKQVVSDIDYVPLKSATCITRCNLGGAVCRHHANEYRLYLDAYNMMI\n",
            "                     SAGFSLWVYKQFDTYNLWNTFTRLQSLENVAFNVVNKGHFDGQQGEVPVSIINNTVYT\n",
            "                     KVDGVDVELFENKTTLPVNVAFELWAKRNIKPVPEVKILNNLGVDIAANTVIWDYKRD\n",
            "                     APAHISTIGVCSMTDIAKKPIETICAPLTVFFDGRVDGQVDLFRNARNGVLITEGSVK\n",
            "                     GLQPSVGPKQASLNGVTLIGEAVKTQFNYYKKVDGVVQQLPETYFTQSRNLQEFKPRS\n",
            "                     QMEIDFLELAMDEFIERYKLEGYAFEHIVYGDFSHSQLGGLHLLIGLAKRFKESPFEL\n",
            "                     EDFIPMDSTVKNYFITDAQTGSSKCVCSVIDLLLDDFVEIIKSQDLSVVSKVVKVTID\n",
            "                     YTEISFMLWCKDGHVETFYPKLQSSQAWQPGVAMPNLYKMQRMLLEKCDLQNYGDSAT\n",
            "                     LPKGIMMNVAKYTQLCQYLNTLTLAVPYNMRVIHFGAGSDKGVAPGTAVLRQWLPTGT\n",
            "                     LLVDSDLNDFVSDADSTLIGDCATVHTANKWDLIISDMYDPKTKNVTKENDSKEGFFT\n",
            "                     YICGFIQQKLALGGSVAIKITEHSWNADLYKLMGHFAWWTAFVTNVNASSSEAFLIGC\n",
            "                     NYLGKPREQIDGYVMHANYIFWRNTNPIQLSSYSLFDMSKFPLKLRGTAVMSLKEGQI\n",
            "                     NDMILSLLSKGRLIIRENNRVVISSDVLVNN\"\n",
            "     mat_peptide     212..751\n",
            "                     /gene=\"ORF1ab\"\n",
            "                     /product=\"leader protein\"\n",
            "     mat_peptide     752..2665\n",
            "                     /gene=\"ORF1ab\"\n",
            "                     /product=\"nsp2\"\n",
            "     mat_peptide     2666..8500\n",
            "                     /gene=\"ORF1ab\"\n",
            "                     /product=\"nsp3\"\n",
            "     mat_peptide     8501..10000\n",
            "                     /gene=\"ORF1ab\"\n",
            "                     /product=\"nsp4\"\n",
            "     mat_peptide     10001..10918\n",
            "                     /gene=\"ORF1ab\"\n",
            "                     /product=\"3C-like proteinase\"\n",
            "     mat_peptide     10919..11779\n",
            "                     /gene=\"ORF1ab\"\n",
            "                     /product=\"nsp6\"\n",
            "     mat_peptide     11780..12028\n",
            "                     /gene=\"ORF1ab\"\n",
            "                     /product=\"nsp7\"\n",
            "     mat_peptide     12029..12622\n",
            "                     /gene=\"ORF1ab\"\n",
            "                     /product=\"nsp8\"\n",
            "     mat_peptide     12623..12961\n",
            "                     /gene=\"ORF1ab\"\n",
            "                     /product=\"nsp9\"\n",
            "     mat_peptide     12962..13378\n",
            "                     /gene=\"ORF1ab\"\n",
            "                     /product=\"nsp10\"\n",
            "     mat_peptide     join(13379..13405,13405..16173)\n",
            "                     /gene=\"ORF1ab\"\n",
            "                     /product=\"RNA-dependent RNA polymerase\"\n",
            "     mat_peptide     16174..17976\n",
            "                     /gene=\"ORF1ab\"\n",
            "                     /product=\"helicase\"\n",
            "     mat_peptide     17977..19557\n",
            "                     /gene=\"ORF1ab\"\n",
            "                     /product=\"3'-to-5' exonuclease\"\n",
            "     mat_peptide     19558..20595\n",
            "                     /gene=\"ORF1ab\"\n",
            "                     /product=\"endoRNAse\"\n",
            "     mat_peptide     20596..21489\n",
            "                     /gene=\"ORF1ab\"\n",
            "                     /product=\"2'-O-ribose methyltransferase\"\n",
            "     CDS             212..13420\n",
            "                     /gene=\"ORF1ab\"\n",
            "                     /codon_start=1\n",
            "                     /product=\"ORF1a polyprotein\"\n",
            "                     /protein_id=\"XCO51365.1\"\n",
            "                     /translation=\"MESLVPGFNEKTHVQLSLPVLQVRDVLVRGFGDSVEEVLSEARQ\n",
            "                     HLKDGTCGLVEVEKGVLPQLEQPYVFIKRSDARTAPHGHVMVELVAELEGIQYGRSGE\n",
            "                     TLGVLVPHVGEIPVAYRKVLLRKNGNKGAGGHRYGADLKSFDLGDELXXXXXXDFQEN\n",
            "                     WNTKHSSGVTRELMRELNGGAYTRYVDNNFCGPDGYPLECIKDLLARAGKASCTLSEQ\n",
            "                     LDFIDTKRGVYCCREHEHEIAWYTERSEKSYELQTPFEIKLAKKFDTFNGECPNFVFP\n",
            "                     LNSIIKTIQPRVEKKKLDGFMGRIRSVYPVASPNECNQMCLSTLMKCDHCGETSWQTG\n",
            "                     DFVKATCEFCGTENLTKEGATTCGYLPQNAVVKIYCPACHNSEVGPEHSLAEYHNESG\n",
            "                     LKTILRKGGRTIAFGGCVFSYVGCHNKCAYWVPRASANIGCNHTGVVGEGSEGLNDNL\n",
            "                     LEILQKEKVNINIVGDFKLNEEIAIILASFSASTSAFVETVKGLDYKAFKQIVESCGN\n",
            "                     FKVTKGKAKKGAWNIGEQKSILSPLYAFASEAARVVRSIFSRTLETAQNSVRVLQKAA\n",
            "                     ITILDGISQYSLRLIDAMMFTSDLATNNLVVMAYITGGVVQLTSQWLTNIFGTVYEKL\n",
            "                     KPVLDWLEEKFKEGVEFLRDGWEIVKFISTCACEIVGGQIVTCAKEIKESVQTFFKLV\n",
            "                     NKFLALCADSIIIGGAKLKALNLGETFVTHSKGLYRKCVKSREETGLLMPLKAPKEII\n",
            "                     FLEGETLPTEVLTEEVVLKTGDLQPLEQPTSEAVEAPLVGTPVCINGLMLLEIKDTEK\n",
            "                     YCALAPNMMVTNNTFTLKGGAPTKVTFGDDTVIEVQGYKSVNIIFELDERIDKVLNEK\n",
            "                     CSAYTVELGTEVNEFACVVADAVIKTLQPVSELLTPLGIDLDEWSMATYYLFDESGEF\n",
            "                     KLASHMYCSFYPPDEDEEEGDCEEEEFEPSTQYEYGTEDDYQGKPLEFGATSAALQPE\n",
            "                     EEQEEDWLDDDSQQTVGQQDGSEDNQTTTIQTIVEVQPQLEMELTPVVQTIEVNSFSG\n",
            "                     YLKLTDNVYIKNADIVEEAKKVKPTLVVNAANVYLKHGGGVAGALNKATNNAMQVESD\n",
            "                     DYIATNGPLKVGGSCVLSGHNLAKHCLHVVGPNVNKGEDIQLLKSAYENFNQHEVLLA\n",
            "                     PLLSAGIFGADPIHSLRVCVDTVRTNVYLAVFDKNLYDKLVSSFLEMKSEKQVEQKIA\n",
            "                     EIPKEEVKPFITESKPSVEQRKQDDKKIKACVEEVTTTLEETKFLTENLLLYIDINGN\n",
            "                     LHPDSATLVSDIDITFLKKDAPYIVGDVVQEGVLTAVVIPTKKASGTTEMLAKALRKV\n",
            "                     PTDNYITTYPGQGLNGYTVEEAKTVLKKCKSAFYILPSIISNEKQEILGTVSWNLREM\n",
            "                     LAHAEETRKLMPVCVETKAIVSTIQRKYKGIKIQEGVVDYGARFYFYTSKTTVASLIN\n",
            "                     TLNDLNETLVTMPLGYVTHGLNLEEAARYMRSLKVPATVSVSSPDAVTAYNGYLTSSS\n",
            "                     KTPEEHFIETISFAGSYKDWSYSGQSTQLGIEFLKRGDKSVYYTSNPTTFHLDGEVIT\n",
            "                     FDNLKTLLSLREVRTIKVFTTVDNINLHTQVVDMSMTYGQQFGPTYLDGADVTKIKPH\n",
            "                     NSHEGKTFYVLPNDDTLRVEAFEYYHTTDPSFLGRYMSALNHTKKWKYPQVNGLTSIK\n",
            "                     WADNNCYLATALLTLQQIELKFNPPALQDAYYRARAGEAANFCALILAYCNKTVGELG\n",
            "                     DVRETMSYLFQHANLDSCKRVLNVVCKTCGQQQTTLKGVEAVMYMGTLSYEQFKKGVQ\n",
            "                     IPCTCGKQATKYLVQQESPFVMMSAPPAQYELKHGTFTCASEYTGNYQCGHYKHITSK\n",
            "                     ETLYCIDGALLTKSSEYKGPITDVFYKENSYTTTIKPVTYKLDGVVCTEIDPKLDNYY\n",
            "                     KKDNSYFTEQPIDLVPNQPYPNASFDNFKFVCDNIKFADDLNQLTGYKKPASRELKVT\n",
            "                     FFPDLNGDVVAIDYRHYTPSFKKGAKLLHKPIVWHVNNATNKATYKPNTWCIRCLWST\n",
            "                     KPVETSNSFDVLKSEDAQGMDNLACEDLKPVSEEVVENPTIQKDVLECNVKTTEVVGD\n",
            "                     IILKPANNSLKITEEVGHTDLMAAYVDNSSLTIKKPNELSRVLGLKTLATHGLAAVNS\n",
            "                     VPWDTIANYAKPFLNKVVSTTTNIVTRCLNRVCTNYMPYFFTLLLQLCTFTRSTNSRI\n",
            "                     KASMPTTIAKNTVKSVGKFCLEASFNYLKSPNFSKLINIIIWFLLLSVCLGSLIYSTA\n",
            "                     ALGVLMSNLGMPSYCTGYREGYLNSTNVTIATYCTGSIPCSVCLSGLDSLDTYPSLET\n",
            "                     IQITISSFKWDLTAFGLVAEWFLAYILFTRFFYVLGLAAIMQLFFSYFAVHFISNSWL\n",
            "                     MWLIINLVQMAPISAMVRMYIFFASFYYVWKSYVHVVDGCNSSTCMMCYKRNRATRVE\n",
            "                     CTTIVNGVRRSFYVYANGGKGFCKLHNWNCVNCDTFCAGSTFISDEVARDLSLQFKRP\n",
            "                     INPTDQSSYIVDSVTVKNGSIHLYFDKAGQKTYERHSLSHFVNLDSLRANNTKGSLPI\n",
            "                     NVIVFDGKSKCEESSAKSASVYYSQLMCQPILLLDQALVSDVGDSAEVAVKMFDAYVN\n",
            "                     TFSSTFNVPMEKLKTLVATAEAELAKNVSLDNVLSTFISAARQGFVDSDVETKDVVEC\n",
            "                     LKLSHQSDIEVTGDSCNNYMLTYNKVENMTPRDLGACIDCSARHINAQVAKSHNITLI\n",
            "                     WNVKDFMSLSEQLRKQIRSAAKKNNLPFKLTCATTRQVVNVVTTKIALKGGKIVNNWL\n",
            "                     KQLIKVTLVFLFVAAIFYLITPVHVMSKHTDFSSEIIGYKAIDGGVTRDIASTDTCFA\n",
            "                     NKHADFDTWFSQRGGSYTNDKACPLIAAVITREVGFVVPGLPGTILRTTNGDFLHFLP\n",
            "                     RVFSAVGNICYTPSKLIEYTDFATSACVLAAECTIFKDASGKPVPYCYDTNVLEGSVA\n",
            "                     YESLRPDTRYVLMDGSIIQFPNTYLEGSVRVVTTFDSEYCRHGTCERSEAGVCVSTSG\n",
            "                     RWVLNNDYYRSLPGVFCGVDAVNLFTNMFTPLIQPIGALDISASIVAGGIVAIVVTCL\n",
            "                     AYYFMRFRRAFGEYSHVVAFNTLLFLMSFIVLCLTPVYSFLPGVYSVIYLYLTFYLTN\n",
            "                     DVSFLAHIQWMVMFTPLVPFWITIAYIICISTKHFYWFFSNYLKRRVVFNGVSFSTFE\n",
            "                     EAALCTFLLNKEMYLKLRSDVLLPLTQYNRYLALYNKYKYFSGAMDTTSYREAACCHL\n",
            "                     AKALNDFSNSGSDVLYQPPQISITSAVLQSGFRKMAFPSGKVEGCMVQVTCGTTTLNG\n",
            "                     LWLDDVVYCPRHVICTSEDMLNPNYEDLLIRKSNHNFLVQAGNVQLRVIGHSMQNCVL\n",
            "                     KLKVDTANPKTPKYKFVRIQPGQTFSVLACYNGSPSGVYQCAMRHNFTIKGSFLNGSC\n",
            "                     GSVGFNIDYDCVSFCYMHHMELPTGVHAGTDLEGNFYGPFVDRQTAQAAGTDTTITVN\n",
            "                     VLAWLYAAVINGDRWFLNRFTTTLNDFNLVAMKYNYEPLTQDHVDILGPLSAQTGIAV\n",
            "                     LDMCASLKELLQNGMNGRTILGSALLEDEFTPFDVVRQCSGVTFQSAVKRTIKGTHHW\n",
            "                     LLLTILTSLLFLVQSTQWSLFFFLYENAFLPFAMGIIAMSAFAMMFVKHKHAFLCLFL\n",
            "                     LPSLATVAYFNMVYMPASWVMRIMTWLDMVDTSLKLKDCVMYASAVVLLILMTARTVY\n",
            "                     DDGARRVWTLMNVLTLVYKVYYGNALDQAISMWALIISVTSNYSGVVTTVMFLARGIV\n",
            "                     FMCVEYCPIFFITGNTLQCIMLVYCFLGYFCTCYFGLFCLLNRYFRLTLGVYDYLVST\n",
            "                     QEFKYMNSQGLLPPKNSIDAFKLNIKLLGVGGKPCIKVATVQSKMSDVKCTSVVLLSV\n",
            "                     LQQLRVESSSKLWAQCVQLHNDILLAKDTTEAFEKMVSLLSVLLSMQGAVDINKLCEE\n",
            "                     MLDNRATLQAIASEFSSLPSYAAFATAQEAYEQAVANGDSEVVLKKLKKSLNVAKSEF\n",
            "                     DRDAAMQRKLEKMADQAMTQMYKQARSEDKRAKVTSAMQTMLFTMLRKLDNDALNNII\n",
            "                     NNARDGCVPLNIIPLTTAAKLMVVIPDYNTYKNTCDGTTFTYASALWEIQQVVDADSK\n",
            "                     IVQLSEISMDNSPNLAWPLIVTALRANSAVKLQNNELSPVALRQMSCAAGTTQTACTD\n",
            "                     DNALAYYNTIKGGRFVLALLSDLQDLKWARFPKSDGTGTIYTELEPPCRFVTDTPKGP\n",
            "                     KVKYLYFIKGLNNLNRGMVLGSLAATVRLQAGNATEVPANSTVLSFCAFAVDAAKAYK\n",
            "                     DYLASGGQPITNCVKMLCTHTGTGQAITVTPEANMDQESFGGASCCLYCRCHIDHPNP\n",
            "                     KGFCDLKGKYVQIPTTCANDPVGFTLKNTVCTVCGMWKGYGCSCDQLREPMLQSADAQ\n",
            "                     SFLNGFAV\"\n",
            "     mat_peptide     212..751\n",
            "                     /gene=\"ORF1ab\"\n",
            "                     /product=\"leader protein\"\n",
            "     mat_peptide     752..2665\n",
            "                     /gene=\"ORF1ab\"\n",
            "                     /product=\"nsp2\"\n",
            "     mat_peptide     2666..8500\n",
            "                     /gene=\"ORF1ab\"\n",
            "                     /product=\"nsp3\"\n",
            "     mat_peptide     8501..10000\n",
            "                     /gene=\"ORF1ab\"\n",
            "                     /product=\"nsp4\"\n",
            "     mat_peptide     10001..10918\n",
            "                     /gene=\"ORF1ab\"\n",
            "                     /product=\"3C-like proteinase\"\n",
            "     mat_peptide     10919..11779\n",
            "                     /gene=\"ORF1ab\"\n",
            "                     /product=\"nsp6\"\n",
            "     mat_peptide     11780..12028\n",
            "                     /gene=\"ORF1ab\"\n",
            "                     /product=\"nsp7\"\n",
            "     mat_peptide     12029..12622\n",
            "                     /gene=\"ORF1ab\"\n",
            "                     /product=\"nsp8\"\n",
            "     mat_peptide     12623..12961\n",
            "                     /gene=\"ORF1ab\"\n",
            "                     /product=\"nsp9\"\n",
            "     mat_peptide     12962..13378\n",
            "                     /gene=\"ORF1ab\"\n",
            "                     /product=\"nsp10\"\n",
            "     mat_peptide     13379..13417\n",
            "                     /gene=\"ORF1ab\"\n",
            "                     /product=\"nsp11\"\n",
            "     stem_loop       13413..13440\n",
            "                     /gene=\"ORF1ab\"\n",
            "                     /note=\"Coronavirus frameshifting stimulation element\n",
            "                     stem-loop 1\"\n",
            "     stem_loop       13425..13479\n",
            "                     /gene=\"ORF1ab\"\n",
            "                     /note=\"Coronavirus frameshifting stimulation element\n",
            "                     stem-loop 2\"\n",
            "     gene            21500..25306\n",
            "                     /gene=\"S\"\n",
            "     CDS             21500..25306\n",
            "                     /gene=\"S\"\n",
            "                     /codon_start=1\n",
            "                     /product=\"surface glycoprotein\"\n",
            "                     /protein_id=\"XCO51366.1\"\n",
            "                     /translation=\"MFVFLVLLPLVSSQCVMPLFNLITTTQSYTNFTRGVYYPDKVFR\n",
            "                     SSVLHLTQDLFLPFFSNVTWFHAISGTNGTKRFDNPVLPFNDGVYFASTEKSNIIRGW\n",
            "                     IFGTTLDSKTQSLLIVNNATNVFIKVCEFQFCNDPFLDVYHKNNKSWMESESGVYSSA\n",
            "                     NNCTFEYVSQPFLMDLEGKHGNFKNLREFVFKNIDGYFKIYSKHTPIIGRDFPQGFSA\n",
            "                     LEPLVDLPIGINITRFQTLLALNRSYLTPGDSSSGWTAGAADYYVGYLQPRTFLLKYN\n",
            "                     ENGTITDAVDCALDPLSETKCTLKSFTVEKGIYQTSNFRVQPTESIVRFPNVTNLCPF\n",
            "                     HEVFNATTFASVYAWNRTRISNCVADYSVLYNFAPFFAFKCYGVSPTKLNDLCFTNVY\n",
            "                     ADSFVIKGNEVSQIAPGQTGNIADYNYKLPDDFTGCVIAWNSNKLDSKHSGNYDYWYR\n",
            "                     SLRKSKLKPFERDISTEIYQAGNKPCKGKGPNCYFPLQSYGFRPTYGVGHQPYRVVVL\n",
            "                     SFELLHAPATVCGPKKSTNLVKNKCVNFNFNGLTGTGVLTKSNKKFLPFQQFGRDIVD\n",
            "                     TTDAVRDPQTLEILDITPCSFGGVSVITPGTNTSNQVAVLYQGVNCTEVSVAIHADQL\n",
            "                     TPTWRVYSTGSNVFQTRAGCLIGAEYVNNSYECDIPIGAGICASYQTQTXSXRXXXXX\n",
            "                     XXXXXXXXXXXXXXXXXXXXXXXXXXXXXXXXXXXXXXXXXXXXXXXXXXXXXXXXXX\n",
            "                     XXXXXXXXXXXXXXXXXXXXXXXXXXXXXXXXXXXXXXXXXXXXXXXXXXXXXXXXXX\n",
            "                     XXXXXXXXXXXXXXXXXXXXXXXXXXXXXXXXXXXXXXXXXXXXXXXXXXXXXXXXXX\n",
            "                     XXXXXXXXXXXXXXXXXXXXXXXXXXXXXXXXXXXXXXXXXXXXXXXXXXXXXXXXXX\n",
            "                     XXXXXXXXXXXXXXXXXXXXXXXXXXXXXXXXXXXXXXXXXXXXXXXXXXXXXXXXXX\n",
            "                     XXXXXXXXXXXXXXXXXXXXXXXXXXXXXXXXXXXXXXXXXXXXXXXXXXXXXXXVLG\n",
            "                     QSKRVDFCGKGYHLMSFPQSAPHGVVFLHVTYVPAQEKNFTTAPAICHDGKAHFPREG\n",
            "                     VFVSNGTHWFVTQRNFYEPQIITTDNTFVSGNCDVVIGIVNNTVYDPLQLELDSFKEE\n",
            "                     LDKYFKNHTSPDVDLGDISGINASVVNIQKEIDRLNEVAKNLNESLIDLQELGKYEQY\n",
            "                     IKWPWYIWLGFIAGLIAIVMVTIMLCCMTSCCSCLKGCCSCGSCCKFDEDDSEPVLKG\n",
            "                     VKLHYT\"\n",
            "     gap             23532..24580\n",
            "                     /estimated_length=1049\n",
            "     gene            25315..26142\n",
            "                     /gene=\"ORF3a\"\n",
            "     CDS             25315..26142\n",
            "                     /gene=\"ORF3a\"\n",
            "                     /codon_start=1\n",
            "                     /product=\"ORF3a protein\"\n",
            "                     /protein_id=\"XCO51367.1\"\n",
            "                     /translation=\"MDLFMRIFTIGTVTLKQGEIKDATPSDFVRATATIPIQASLPFG\n",
            "                     WLIVGVALLAVFQSASKIITLKKRWQLALSKGVHFVCNLLLLFVTVYSHLLLVAAGLE\n",
            "                     APFLYLYALVYFLQSINFVRIIMRLWLCWKCRSKNPLLYDANYFLCWHTNCYDYCIPY\n",
            "                     NSVTSSIVITSGDGTTSPISEHDYQIGGYTEKWESGVKDCVVLHSYFTSDYYQLYSTQ\n",
            "                     LSTDIGVEHVTFFIYNKIVDEPEEHVQIHTIDGSSGVVNPVMEPIYDEPTTTTSVPL\"\n",
            "     gene            26167..26394\n",
            "                     /gene=\"E\"\n",
            "     CDS             26167..26394\n",
            "                     /gene=\"E\"\n",
            "                     /codon_start=1\n",
            "                     /product=\"envelope protein\"\n",
            "                     /protein_id=\"XCO51368.1\"\n",
            "                     /translation=\"MYSFVSEEIGTLIVNSVLLFLAFVVFLLVTLAILTALRLCAYCC\n",
            "                     NIVNVSLVKPSFYVYSRVKNLNSSRVPDLLV\"\n",
            "     gene            26445..27113\n",
            "                     /gene=\"M\"\n",
            "     CDS             26445..27113\n",
            "                     /gene=\"M\"\n",
            "                     /codon_start=1\n",
            "                     /product=\"membrane glycoprotein\"\n",
            "                     /protein_id=\"XCO51369.1\"\n",
            "                     /translation=\"MAHSNGTITVEELKKLLEEWNLVIGFLFLAWICLLQFAYANRNR\n",
            "                     FLYIIKLIFLWLLWPVTLTCFVLAAVYRINWITGGIAIAMACLVGLMWLSYFIASFRL\n",
            "                     FVRTRSMWSFNPETNILLNVPLHGTILTRPLLESELVIGAVILRGHLRIAGHHLGRCD\n",
            "                     IKDLPKEITVATSRTLSYYKLGASQRVAGDSGFAAYSRYRIGNYKLNTDHSSSSDNIA\n",
            "                     LLVQ\"\n",
            "     gene            27124..27309\n",
            "                     /gene=\"ORF6\"\n",
            "     CDS             27124..27309\n",
            "                     /gene=\"ORF6\"\n",
            "                     /codon_start=1\n",
            "                     /product=\"ORF6 protein\"\n",
            "                     /protein_id=\"XCO51370.1\"\n",
            "                     /translation=\"MFHLVDFQVTIAEILLIIMRTFKVSIWNLDYIINLIIKNLSKSL\n",
            "                     TENKYSQLDEEQPMEIL\"\n",
            "     gene            27316..27681\n",
            "                     /gene=\"ORF7a\"\n",
            "     CDS             27316..27681\n",
            "                     /gene=\"ORF7a\"\n",
            "                     /codon_start=1\n",
            "                     /product=\"ORF7a protein\"\n",
            "                     /protein_id=\"XCO51371.1\"\n",
            "                     /translation=\"MKIILFLALITLATCELYHYQECVRGTTVLLKEPCSSGTYEGNS\n",
            "                     PFHPLADNKFALTCFSTQFAFACPDGVKHVYQLRARSVSPKLFIRQEEVQELYSPIFL\n",
            "                     IVAAIVFITLCFTLKRKTE\"\n",
            "     gene            27678..27809\n",
            "                     /gene=\"ORF7b\"\n",
            "     CDS             27678..27809\n",
            "                     /gene=\"ORF7b\"\n",
            "                     /codon_start=1\n",
            "                     /product=\"ORF7b\"\n",
            "                     /protein_id=\"XCO51372.1\"\n",
            "                     /translation=\"MIELSLIDFYLCFLAFLLLLVLIMLIIFWFSLELQDHNETCHA\"\n",
            "     gene            27816..28181\n",
            "                     /gene=\"ORF8\"\n",
            "     CDS             27816..28181\n",
            "                     /gene=\"ORF8\"\n",
            "                     /codon_start=1\n",
            "                     /product=\"ORF8 protein\"\n",
            "                     /protein_id=\"XCO51373.1\"\n",
            "                     /translation=\"MKFLVFLGIITTVAAFHQECSLQSCTQHQPYVVDDPCPIHFYSK\n",
            "                     WYIRVGARKSAPLIELCVDEAGSKSPIQYIDIGNYTVSCLPFTINCQEPKLGSLVVRC\n",
            "                     SFYEDFLEYHDVRVVLDFI\"\n",
            "     gene            28196..29446\n",
            "                     /gene=\"N\"\n",
            "     CDS             28196..29446\n",
            "                     /gene=\"N\"\n",
            "                     /codon_start=1\n",
            "                     /product=\"nucleocapsid phosphoprotein\"\n",
            "                     /protein_id=\"XCO51374.1\"\n",
            "                     /translation=\"MSDNGPQNQRNALRITFGGPSDSTGSNQNGGARSKQRRPQGLPN\n",
            "                     NTASWFTALTQHGKEDLKFPRGQGVPINTNSSPDDQIGYYRRATRRIRGGDGKMKDLS\n",
            "                     PRWYFYYLGTGPEAGLPYGANKDGIIWVATEGALNTPKDHIGTRNPANNAAIVLQLPQ\n",
            "                     GTTLPKGFYAEGSRGGSQASSRSSSRSRNSSRNSTPGSSKRTSPARMAGNGGDAALAL\n",
            "                     LLLDRLNKLESKMSGKGQQQQGQTVTKKSAAEASKKPRQKRTATKAYNVTQAFGRRGP\n",
            "                     EQTQGNFGDQELIRQGTDYKHWPQIAQFAPSASAFFGMSRIGMEVTPSGTWLTYTGAI\n",
            "                     KLDDKDPNFKDQVILLNKHIDAYKTFPPTEPKKDKKKKADETQALPQRQKKQQTVTLL\n",
            "                     PAADLDDFSKQLQQSMSRADSTQA\"\n",
            "     gene            29471..29587\n",
            "                     /gene=\"ORF10\"\n",
            "     CDS             29471..29587\n",
            "                     /gene=\"ORF10\"\n",
            "                     /codon_start=1\n",
            "                     /product=\"ORF10 protein\"\n",
            "                     /protein_id=\"XCO51375.1\"\n",
            "                     /translation=\"MGYINVFAFPFTIYSLLLCRMNSRNYIAQVDVVNFNLT\"\n",
            "     stem_loop       29522..29557\n",
            "                     /gene=\"ORF10\"\n",
            "                     /note=\"Coronavirus 3' UTR pseudoknot stem-loop 1\"\n",
            "     stem_loop       29542..29570\n",
            "                     /gene=\"ORF10\"\n",
            "                     /note=\"Coronavirus 3' UTR pseudoknot stem-loop 2\"\n",
            "     stem_loop       29641..>29646\n",
            "                     /note=\"Coronavirus 3' stem-loop II-like motif (s2m)\"\n",
            "ORIGIN      \n",
            "        1 agatctgttc tctaaacgaa ctttaaaatc tgtgtggctg tcactcggct gcatgcttag\n",
            "       61 tgcactcacg cagtataatt aataactaat tactgtcgtt gacaggacac gagtaactcg\n",
            "      121 tctatcttct gcaggctgct tacggtttcg tccgtgttgc agccgatcat cagcacatct\n",
            "      181 aggttttgtc cgggtgtgac cgaaaggtaa gatggagagc cttgtccctg gtttcaacga\n",
            "      241 gaaaacacac gtccaactca gtttgcctgt tttacaggtt cgcgacgtgc tcgtacgtgg\n",
            "      301 ctttggagac tccgtggagg aggtcttatc agaggcacgt caacatctta aagatggcac\n",
            "      361 ttgtggctta gtagaagttg aaaaaggcgt tttgcctcaa cttgaacagc cctatgtgtt\n",
            "      421 catcaaacgt tcggatgctc gaactgcacc tcatggtcat gttatggttg agctggtagc\n",
            "      481 agaactcgaa ggcattcagt acggtcgtag tggtgagaca cttggtgtcc ttgtccctca\n",
            "      541 tgtgggcgaa ataccagtgg cttaccgcaa ggttcttctt cgtaagaacg gtaataaagg\n",
            "      601 agctggtggc cataggtacg gcgccgatct aaagtcattt gacttaggcg acgagcttgn\n",
            "      661 nnnnnnnnnn nnnnaagatt ttcaagaaaa ctggaacact aaacatagca gtggtgttac\n",
            "      721 ccgtgaactc atgcgtgagc ttaacggagg ggcatacact cgctatgtcg ataacaactt\n",
            "      781 ctgtggccct gatggctacc ctcttgagtg cattaaagac cttctagcac gtgctggtaa\n",
            "      841 agcttcatgc actttgtccg aacaactgga ctttattgac actaagaggg gtgtatactg\n",
            "      901 ctgccgtgaa catgagcatg aaattgcttg gtacacggaa cgttctgaaa agagctatga\n",
            "      961 attgcagaca ccttttgaaa ttaaattggc aaagaaattt gacaccttca atggggaatg\n",
            "     1021 tccaaatttt gtatttccct taaattccat aatcaagact attcaaccaa gggttgaaaa\n",
            "     1081 gaaaaagctt gatggcttta tgggtagaat tcgatctgtc tatccagttg cgtcaccaaa\n",
            "     1141 tgaatgcaac caaatgtgcc tttcaactct catgaagtgt gatcattgtg gtgaaacttc\n",
            "     1201 atggcagacg ggcgattttg ttaaagccac ttgcgaattt tgtggcactg agaatttgac\n",
            "     1261 taaagaaggt gccactactt gtggttactt accccaaaat gctgttgtta aaatttattg\n",
            "     1321 tccagcatgt cacaattcag aagtaggacc tgagcatagt cttgccgaat accataatga\n",
            "     1381 atctggcttg aaaaccattc ttcgtaaggg tggtcgcact attgcctttg gaggctgtgt\n",
            "     1441 gttctcttat gttggttgcc ataacaagtg tgcctattgg gttccacgtg ctagcgctaa\n",
            "     1501 cataggttgt aaccatacag gtgttgttgg agaaggttcc gaaggtctta atgacaacct\n",
            "     1561 tcttgaaata ctccaaaaag agaaagtcaa catcaatatt gttggtgact ttaaacttaa\n",
            "     1621 tgaagagatc gccattattt tggcatcttt ttctgcttcc acaagtgctt ttgtggaaac\n",
            "     1681 tgtgaaaggt ttggattata aagcattcaa acaaattgtt gaatcctgtg gtaattttaa\n",
            "     1741 agttacaaaa ggaaaagcta aaaaaggtgc ctggaatatt ggtgaacaga aatcaatact\n",
            "     1801 gagtcctctt tatgcatttg catcagaggc tgctcgtgtt gtacgatcaa ttttctcccg\n",
            "     1861 cactcttgaa actgctcaaa attctgtgcg tgttttacag aaggccgcta taacaatact\n",
            "     1921 agatggaatt tcacagtatt cactgagact cattgatgct atgatgttca catctgattt\n",
            "     1981 ggctactaac aatctagttg taatggccta cattacaggt ggtgttgttc agttgacttc\n",
            "     2041 gcagtggcta actaacatct ttggcactgt ttatgaaaaa ctcaaacccg tccttgattg\n",
            "     2101 gcttgaagag aagtttaagg aaggtgtaga gtttcttaga gacggttggg aaattgttaa\n",
            "     2161 atttatctca acctgtgctt gtgaaattgt cggtggacaa attgtcacct gtgcaaagga\n",
            "     2221 aattaaggag agtgttcaga cattctttaa gcttgtaaat aaatttttgg ctttgtgtgc\n",
            "     2281 tgactctatc attattggtg gagctaaact taaagccttg aatttaggtg aaacatttgt\n",
            "     2341 cacgcactca aagggattgt acagaaagtg tgttaaatcc agagaagaaa ctggcctact\n",
            "     2401 catgcctcta aaagccccaa aagaaattat cttcttagag ggagaaacac ttcccacaga\n",
            "     2461 agtgttaaca gaggaagttg tcttgaaaac tggtgattta caaccattag aacaacctac\n",
            "     2521 tagtgaagct gttgaagctc cattggttgg tacaccagtt tgtattaacg ggcttatgtt\n",
            "     2581 gctcgaaatc aaagacacag aaaagtactg tgcccttgca cctaatatga tggtaacaaa\n",
            "     2641 caataccttc acactcaaag gcggtgcacc aacaaaggtt acttttggtg atgacactgt\n",
            "     2701 gatagaagtg caaggttaca agagtgtgaa tatcattttt gaacttgatg aaaggattga\n",
            "     2761 taaagtactt aatgagaagt gctctgccta tacagttgaa ctcggtacag aagtaaatga\n",
            "     2821 gttcgcctgt gttgtggcag atgctgtcat aaaaactttg caaccagtat ctgaattact\n",
            "     2881 tacaccactg ggcattgatt tagatgagtg gagtatggct acatactact tatttgatga\n",
            "     2941 gtctggtgag tttaaattgg cttcacatat gtattgttct ttttaccctc cagatgagga\n",
            "     3001 tgaagaagaa ggtgattgtg aagaagaaga gtttgagcca tcaactcaat atgagtatgg\n",
            "     3061 tactgaagat gattaccaag gtaaaccttt ggaatttggt gccacttctg ctgctcttca\n",
            "     3121 acctgaagaa gagcaagaag aagattggtt agatgatgat agtcaacaaa ctgttggtca\n",
            "     3181 acaagacggc agtgaggaca atcagacaac tactattcaa acaattgttg aggttcaacc\n",
            "     3241 tcaattagag atggaactta caccagttgt tcagactatt gaagtgaata gttttagtgg\n",
            "     3301 ttatttaaaa cttactgaca atgtatacat taaaaatgca gacattgtgg aagaagctaa\n",
            "     3361 aaaggtaaaa ccaacattgg ttgttaatgc agccaatgtt taccttaaac atggaggagg\n",
            "     3421 tgttgcagga gccttaaata aggctactaa caatgccatg caagttgaat ctgatgatta\n",
            "     3481 catagctact aatggaccac ttaaagtggg cggtagttgt gttttaagcg gacacaatct\n",
            "     3541 tgctaaacac tgtcttcatg ttgtcggccc aaatgttaac aaaggtgaag acattcaact\n",
            "     3601 tcttaagagt gcttatgaaa attttaatca gcacgaagtt ctacttgcac cattattatc\n",
            "     3661 agctggtatt tttggtgctg accctataca ttctttaaga gtttgtgtag atactgttcg\n",
            "     3721 cacaaatgtc tacttagctg tctttgataa aaatctctat gacaaacttg tttcaagctt\n",
            "     3781 tttggaaatg aagagtgaaa agcaagttga acaaaagatc gctgagattc ctaaagagga\n",
            "     3841 agttaagcca tttataactg aaagtaaacc ttcagttgaa cagagaaaac aagatgataa\n",
            "     3901 gaaaatcaaa gcttgtgttg aagaagttac aacaactctg gaagaaacta agttcctcac\n",
            "     3961 agaaaacttg ttactttata ttgacattaa tggcaatctt catccagatt ctgccactct\n",
            "     4021 tgttagtgac attgacatca ctttcttaaa gaaagatgct ccatatatag tgggtgatgt\n",
            "     4081 tgttcaagag ggtgttttaa ctgctgtggt tatacctact aaaaaggcta gtggcactac\n",
            "     4141 tgaaatgcta gcgaaagctt tgagaaaagt gccaacagac aattatataa ccacttaccc\n",
            "     4201 gggtcagggt ttaaatggtt acactgtaga ggaggcaaag acagtgctta aaaagtgtaa\n",
            "     4261 aagtgctttt tacattctac catctattat ctctaatgag aagcaagaaa ttcttggaac\n",
            "     4321 tgtttcttgg aatttgcgag aaatgcttgc acatgcagaa gaaacacgca aattaatgcc\n",
            "     4381 tgtctgtgtg gaaactaaag ccatagtttc aactatacag cgtaaatata agggtattaa\n",
            "     4441 aatacaagag ggtgtggttg attatggtgc tagattttac ttttacacca gtaaaacaac\n",
            "     4501 tgtagcgtca cttatcaaca cacttaacga tctaaatgaa actcttgtta caatgccact\n",
            "     4561 tggctatgta acacatggct taaatttgga agaagctgct cggtatatga gatctctcaa\n",
            "     4621 agtgccagct acagtttctg tttcttcacc tgatgctgtt acagcgtata atggttatct\n",
            "     4681 tacttcttct tctaaaacac ctgaagaaca ttttattgaa accatctcat ttgctggttc\n",
            "     4741 ctataaagat tggtcctatt ctggacaatc tacacaacta ggtatagaat ttcttaagag\n",
            "     4801 aggtgataaa agtgtatatt acactagtaa tcctaccaca ttccacctag atggtgaagt\n",
            "     4861 tatcaccttt gacaatctta agacacttct ttctttgaga gaagtgagga ctattaaggt\n",
            "     4921 gtttacaaca gtagacaaca ttaacctcca cacgcaagtt gtggacatgt caatgacata\n",
            "     4981 tggacaacag tttggtccaa cttatttgga tggagctgat gttactaaaa taaaacctca\n",
            "     5041 taattcacat gaaggtaaaa cattttatgt tttacctaat gatgacactc tacgtgttga\n",
            "     5101 ggcttttgag tactaccaca caactgatcc tagttttctg ggtaggtaca tgtcagcatt\n",
            "     5161 aaatcacact aaaaagtgga aatacccaca agttaatggt ttaacttcta ttaaatgggc\n",
            "     5221 agataacaac tgttatcttg ccactgcatt gttaacactc caacaaatag agttgaagtt\n",
            "     5281 taatccacct gctctacaag atgcttatta cagagcaagg gctggtgaag ctgctaactt\n",
            "     5341 ttgtgcactt atcttagcct actgtaataa gacagtaggt gagttaggtg atgttagaga\n",
            "     5401 aacaatgagt tacttgtttc aacatgccaa tttagattct tgcaaaagag tcttgaacgt\n",
            "     5461 ggtgtgtaaa acttgtggac aacagcagac aacccttaag ggtgtagaag ctgttatgta\n",
            "     5521 catgggcaca ctttcttatg aacaatttaa gaaaggtgtt cagatacctt gtacgtgtgg\n",
            "     5581 taaacaagct acaaaatatc tagtacaaca ggagtcacct tttgttatga tgtcagcacc\n",
            "     5641 acctgctcag tatgaactta agcatggtac atttacttgt gctagtgagt acactggtaa\n",
            "     5701 ttaccagtgt ggtcactata aacatataac ttctaaagaa actttgtatt gcatagacgg\n",
            "     5761 tgctttactt acaaagtcct cagaatacaa aggtcctatt acggatgttt tctacaaaga\n",
            "     5821 aaacagttac acaacaacca taaaaccagt tacttataaa ttggatggtg ttgtttgtac\n",
            "     5881 agaaattgac cctaagttgg acaattatta taagaaagac aattcttatt tcacagagca\n",
            "     5941 accaattgat cttgtaccaa accaaccata tccaaacgca agcttcgata attttaagtt\n",
            "     6001 tgtatgtgat aatatcaaat ttgctgatga tttaaaccag ttaactggtt ataagaaacc\n",
            "     6061 tgcttcaaga gagcttaaag ttacattttt ccctgactta aatggtgatg tggtggctat\n",
            "     6121 tgattataga cactacacac cctcttttaa gaaaggagct aaattgttac ataaacctat\n",
            "     6181 tgtttggcat gttaacaatg caactaataa agccacgtat aaaccaaata cctggtgtat\n",
            "     6241 acgttgtctt tggagcacaa aaccagttga aacatcaaat tcgtttgatg tactgaagtc\n",
            "     6301 agaggacgcg cagggaatgg ataatcttgc ctgcgaagat ctaaaaccag tctctgaaga\n",
            "     6361 agtagtggaa aatcctacca tacagaaaga cgttcttgag tgtaatgtga aaactaccga\n",
            "     6421 agttgtagga gacattatac ttaaaccagc aaataatagt ttaaaaatta cagaagaggt\n",
            "     6481 tggccacaca gatctaatgg ctgcttatgt agacaattct agtcttacta ttaagaaacc\n",
            "     6541 taatgaatta tctagagtat taggtttgaa aacccttgct actcatggtt tagctgctgt\n",
            "     6601 taatagtgtc ccttgggata ctatagctaa ttatgctaag ccttttctta acaaagttgt\n",
            "     6661 tagtacaact actaacatag ttacacggtg tttaaaccgt gtttgtacta attatatgcc\n",
            "     6721 ttatttcttt actttattgc tacaattgtg tacttttact agaagtacaa attctagaat\n",
            "     6781 taaagcatct atgccgacta ctatagcaaa gaatactgtt aagagtgtcg gtaaattttg\n",
            "     6841 tctagaggct tcatttaatt atttgaagtc acctaatttt tctaaattga taaatattat\n",
            "     6901 aatttggttt ttactattaa gtgtttgcct aggttcttta atctactcaa ccgctgcttt\n",
            "     6961 aggtgtttta atgtctaatt taggcatgcc ttcttactgt actggttaca gagaaggcta\n",
            "     7021 tttgaactct actaatgtca ctattgcaac ctactgtact ggttctatac cttgtagtgt\n",
            "     7081 ttgtcttagt ggtttagatt ctttagacac ctatccttct ttagaaacta tacaaattac\n",
            "     7141 catttcatct tttaaatggg atttaactgc ttttggctta gttgcagagt ggtttttggc\n",
            "     7201 atatattctt ttcactaggt ttttctatgt acttggattg gctgcaatca tgcaattgtt\n",
            "     7261 tttcagctat tttgcagtac attttattag taattcttgg cttatgtggt taataattaa\n",
            "     7321 tcttgtacaa atggccccga tttcagctat ggttagaatg tacatcttct ttgcatcatt\n",
            "     7381 ttattatgta tggaaaagtt atgtgcatgt tgtagacggt tgtaattcat caacttgtat\n",
            "     7441 gatgtgttac aaacgtaata gagcaacaag agtcgaatgt acaactattg ttaatggtgt\n",
            "     7501 tagaaggtcc ttttatgtct atgctaatgg aggtaaaggc ttttgcaaac tacacaattg\n",
            "     7561 gaattgtgtt aattgtgata cattctgtgc tggtagtaca tttattagtg atgaagttgc\n",
            "     7621 gagagacttg tcactacagt ttaaaagacc aataaatcct actgaccagt cttcttacat\n",
            "     7681 cgttgatagt gttacagtga agaatggttc catccatctt tactttgata aagctggtca\n",
            "     7741 aaagacttat gaaagacatt ctctctctca ttttgttaac ttagacagcc tgagagctaa\n",
            "     7801 taacactaaa ggttcattgc ctattaatgt tatagttttt gatggtaaat caaaatgtga\n",
            "     7861 agaatcatct gcaaaatcag cgtctgttta ctacagtcag cttatgtgtc aacctatact\n",
            "     7921 gttactagat caggcattag tgtctgatgt tggtgatagt gcggaagttg cagttaaaat\n",
            "     7981 gtttgatgct tacgttaata cgttttcatc aacttttaac gtaccaatgg aaaaactcaa\n",
            "     8041 aacactagtt gcaactgcng aagctgaact tgcaaagaat gtgtccttag acaatgtctt\n",
            "     8101 atctactttt atttcagcag ctcggcaagg gtttgttgat tcagatgtag aaactaaaga\n",
            "     8161 tgttgttgaa tgtcttaaat tgtcacatca atctgacata gaagttactg gcgatagttg\n",
            "     8221 taataactat atgctcactt ataacaaagt tgaaaacatg acaccccgtg accttggtgc\n",
            "     8281 ttgtattgac tgtagtgcgc gtcatattaa tgcgcaggta gcaaaaagtc acaacattac\n",
            "     8341 tttgatatgg aacgttaaag atttcatgtc attgtctgaa caactacgaa aacaaatacg\n",
            "     8401 tagtgctgct aaaaagaata acttaccttt taagttgaca tgtgcaacta ctagacaagt\n",
            "     8461 tgttaatgtt gtaacaacaa agatagcact taagggtggt aaaattgtta ataattggtt\n",
            "     8521 gaagcagtta attaaagtta cacttgtgtt cctttttgtt gctgctattt tctatttaat\n",
            "     8581 aacacctgtt catgtcatgt ctaaacatac tgacttttca agtgaaatca taggatacaa\n",
            "     8641 ggctattgat ggtggtgtca ctcgtgacat agcatctaca gatacttgtt ttgctaacaa\n",
            "     8701 acatgctgat tttgacacat ggtttagcca gcgtggtggt agttatacta atgacaaagc\n",
            "     8761 ttgcccattg attgctgcag tcataacaag agaagtgggt tttgtcgtgc ctggtttgcc\n",
            "     8821 tggcacgata ttacgcacaa ctaatggtga ctttttgcat ttcttaccta gagtttttag\n",
            "     8881 tgcagttggt aacatctgtt acacaccatc aaaacttata gagtacactg actttgcaac\n",
            "     8941 atcagcttgt gttttggctg ctgaatgtac aatttttaaa gatgcttctg gtaagccagt\n",
            "     9001 accatattgt tatgatacca atgtactaga aggttctgtt gcttatgaaa gtttacgccc\n",
            "     9061 tgacacacgt tatgtgctca tggatggctc tattattcaa tttcctaaca cctaccttga\n",
            "     9121 aggttctgtt agagtggtaa caacttttga ttctgagtac tgtaggcacg gcacttgtga\n",
            "     9181 aagatcagaa gctggtgttt gtgtatctac tagtggtaga tgggtactta acaatgatta\n",
            "     9241 ttacagatct ttaccaggag ttttctgtgg tgtagatgct gtaaatttat ttactaatat\n",
            "     9301 gtttacacca ctaattcaac ctattggtgc tttggacata tcagcatcta tagtagctgg\n",
            "     9361 tggtattgtg gctatcgtag taacatgcct tgcctactat tttatgaggt ttagaagagc\n",
            "     9421 ttttggtgaa tacagtcatg tagttgcctt taatacttta ctattcctta tgtcattcat\n",
            "     9481 tgtactctgt ttaacaccag tttactcatt cttacctggt gtttattctg ttatttactt\n",
            "     9541 gtacttgaca ttttatctta ctaatgatgt ttctttttta gcacatattc agtggatggt\n",
            "     9601 tatgttcaca cctttagtac ctttctggat aacaattgct tatatcattt gtatttccac\n",
            "     9661 aaagcatttc tattggttct ttagtaatta cctaaagaga cgtgtagtct ttaatggtgt\n",
            "     9721 ttcctttagt acttttgaag aagctgcgct gtgcaccttt ttgttaaata aagaaatgta\n",
            "     9781 tctaaagttg cgtagtgatg tgctattacc tcttacgcaa tataatagat acttagctct\n",
            "     9841 ttataataag tacaagtatt ttagtggagc aatggataca actagctaca gagaagctgc\n",
            "     9901 ttgttgtcat ctcgcaaagg ctctcaatga cttcagtaac tcaggttctg atgttcttta\n",
            "     9961 ccaaccacca caaatctcta tcacctcagc tgttttgcag agtggtttta gaaaaatggc\n",
            "    10021 attcccatct ggtaaagttg agggttgtat ggtacaagta acttgtggta caactacact\n",
            "    10081 taacggtctt tggcttgatg acgtagttta ctgtccaaga catgtgatct gcacctctga\n",
            "    10141 agatatgctt aaccctaatt atgaagattt actcattcgt aagtctaatc ataatttctt\n",
            "    10201 ggtacaggct ggtaatgttc aactcagggt tattggacat tctatgcaaa attgtgtact\n",
            "    10261 taagcttaag gttgatacag ccaatcctaa gacacctaag tataagtttg ttcgcattca\n",
            "    10321 accaggacag actttttcag tgttagcttg ttacaatggt tcaccatctg gtgtttacca\n",
            "    10381 atgtgctatg agacacaatt tcactattaa gggttcattc cttaatggtt catgtggtag\n",
            "    10441 tgttggtttt aacatagatt atgactgtgt ctctttttgt tacatgcacc atatggaatt\n",
            "    10501 accaactgga gttcatgctg gcacagactt agaaggtaac ttttatggac cttttgttga\n",
            "    10561 caggcaaaca gcacaagcag ctggtacgga cacaactatt acagttaatg ttttagcttg\n",
            "    10621 gttgtacgct gctgttataa atggagacag gtggtttctc aatcgattta ccacaactct\n",
            "    10681 taatgacttt aaccttgtgg ctatgaagta caattatgaa cctctaacac aagaccatgt\n",
            "    10741 tgacatacta ggacctcttt ctgctcaaac tggaattgcc gttttagata tgtgtgcttc\n",
            "    10801 attaaaagaa ttactgcaaa atggtatgaa tggacgtacc atattgggta gtgctttatt\n",
            "    10861 agaagatgaa tttacacctt ttgatgttgt tagacaatgc tcaggtgtta ctttccaaag\n",
            "    10921 tgcagtgaaa agaacaatca agggtacaca ccactggttg ttactcacaa ttttgacttc\n",
            "    10981 acttttattt ttagtccaga gtactcaatg gtctttgttc ttttttttgt atgaaaatgc\n",
            "    11041 ctttttacct tttgctatgg gtattattgc tatgtctgct tttgcaatga tgtttgtcaa\n",
            "    11101 acataagcat gcatttctct gtttgttttt gttaccttct cttgccactg tagcttattt\n",
            "    11161 taatatggtc tatatgcctg ctagttgggt gatgcgtatt atgacatggt tggatatggt\n",
            "    11221 tgatactagt ttgaagctaa aagactgtgt tatgtatgca tcagctgtag tgttactaat\n",
            "    11281 ccttatgaca gcaagaactg tgtatgatga tggtgctagg agagtgtgga cacttatgaa\n",
            "    11341 tgtcttgaca ctcgtttata aagtttatta tggtaatgct ttagatcaag ccatttccat\n",
            "    11401 gtgggctctt ataatctctg ttacttctaa ctactcaggt gtagttacaa ctgtcatgtt\n",
            "    11461 tttggccaga ggtattgttt ttatgtgtgt tgagtattgc cctattttct tcataactgg\n",
            "    11521 taatacactt cagtgtataa tgctagttta ttgtttctta ggctattttt gtacttgtta\n",
            "    11581 ctttggcctc ttttgtttac tcaaccgcta ctttagactg actcttggtg tttatgatta\n",
            "    11641 cttagtttct acacaggagt ttaaatatat gaattcacag ggactactcc cacccaagaa\n",
            "    11701 tagcatagat gccttcaaac tcaacattaa attgttgggt gttggtggca aaccttgtat\n",
            "    11761 caaagtagcc actgtacagt ctaaaatgtc agatgtaaag tgcacatcag tagtcttact\n",
            "    11821 ctcagttttg caacaactca gagtagaatc atcatctaaa ttgtgggctc aatgtgtcca\n",
            "    11881 gttacacaat gacattctct tagctaaaga tactactgaa gcctttgaaa aaatggtttc\n",
            "    11941 actactttct gttttgcttt ccatgcaggg tgctgtagac ataaacaagc tttgtgaaga\n",
            "    12001 aatgctggac aacagggcaa ccttacaagc tatagcctca gagtttagtt cccttccatc\n",
            "    12061 atatgcagct tttgctactg ctcaagaagc ttatgagcag gctgttgcta atggtgattc\n",
            "    12121 tgaagttgtt cttaaaaagt tgaagaagtc tttgaatgtg gctaaatctg aatttgaccg\n",
            "    12181 tgatgcagcc atgcaacgta agttggaaaa gatggctgat caagctatga cccaaatgta\n",
            "    12241 taaacaggct agatctgagg acaagagggc aaaagttact agtgctatgc agacaatgct\n",
            "    12301 tttcactatg cttagaaagt tggataatga tgcactcaac aacattatca acaatgcaag\n",
            "    12361 agatggttgt gttcccttga acataatacc tcttacaaca gcagccaaac taatggttgt\n",
            "    12421 cataccagac tataacacat ataaaaatac gtgtgatggt acaacattta cttatgcatc\n",
            "    12481 agcattgtgg gaaatccaac aggttgtaga tgcagatagt aaaattgttc aacttagtga\n",
            "    12541 aattagtatg gacaattcac ctaatttagc atggcctctt attgtaacag ctttaagggc\n",
            "    12601 caattctgct gtcaaattac agaataatga gcttagtcct gttgcactac gacagatgtc\n",
            "    12661 ttgtgctgcc ggtactacac aaactgcttg cactgatgac aatgcgttag cttactacaa\n",
            "    12721 cacaataaag ggaggtaggt ttgtacttgc attgttatcc gatttacagg atttgaaatg\n",
            "    12781 ggctagattc cctaagagtg atggaactgg tactatttat acagaactgg aaccaccttg\n",
            "    12841 taggtttgtt acagacacac ctaaaggtcc taaagtgaag tatttatact ttattaaagg\n",
            "    12901 attaaacaac ctaaatagag gtatggtact tggtagttta gctgccacag tacgtctaca\n",
            "    12961 agctggtaat gcaacagaag tgcctgccaa ttcaactgta ttatctttct gtgcttttgc\n",
            "    13021 tgtagatgct gctaaagctt acaaagatta tctagctagt gggggacaac caatcactaa\n",
            "    13081 ttgtgttaag atgttgtgta cacacactgg tactggtcag gcaataacag ttacaccgga\n",
            "    13141 agccaatatg gatcaagaat cctttggtgg tgcatcgtgt tgtctgtact gccgttgcca\n",
            "    13201 catagatcat ccaaatccta aaggattttg tgacttaaaa ggtaagtatg tacaaatacc\n",
            "    13261 tacaacttgt gctaacgacc ctgtgggttt tacacttaaa aacacagtct gtaccgtctg\n",
            "    13321 cggtatgtgg aaaggttatg gctgtagttg tgatcaactc cgcgaaccca tgcttcagtc\n",
            "    13381 agctgatgca caatcgtttt taaacgggtt tgcggtgtaa gtgcagcccg tcttacaccg\n",
            "    13441 tgcggcacag gcactagtac tgatgtcgta tacagggctt ttgacatcta caatgataaa\n",
            "    13501 gtagctggtt ttgctaaatt cctaaaaact aattgttgtc gcttccaaga aaaggacgaa\n",
            "    13561 gatgacaatt taattgattc ttactttgta gttaagagac acactttctc taactaccaa\n",
            "    13621 catgaagaaa caatttataa tttacttaag gattgtccag ctgttgctaa acatgacttc\n",
            "    13681 tttaagttta gaatagacgg tgacatggta ccacatatat cacgtcaacg tcttactaaa\n",
            "    13741 tacacaatgg cagacctcgt ctatgcttta aggcattttg atgaaggtaa ttgtgacaca\n",
            "    13801 ttaaaagaaa tacttgtcac atacaattgt tgtgatgatg attatttcaa taaaaaggac\n",
            "    13861 tggtatgatt ttgtagaaaa cccagatata ttacgcgtat acgccaactt aggtgaacgt\n",
            "    13921 gtacgccaag ctttgttaaa aacagtacaa ttctgtgatg ccatgcgaaa tgctggtatt\n",
            "    13981 gttggtgtac tgacattaga taatcaagat ctcaatggta actggtatga tttcggtgat\n",
            "    14041 ttcatacaaa ccacgccagg tagtggagtt cctgttgtag attcttatta ttcattgtta\n",
            "    14101 atgcctatat taaccttgac cagggcttta actgcagagt cacatgttga cactgactta\n",
            "    14161 acaaagcctt acattaagtg ggatttgtta aaatatgact tcacggaaga gaggttaaaa\n",
            "    14221 ctctttgacc gttattttaa atattgggat cagacatacc acccaaattg tgttaactgt\n",
            "    14281 ttggatgaca gatgcattct gcattgtgca aactttaatg ttttattctc tacagtgttc\n",
            "    14341 ccacttacaa gttttggacc actagtgaga aaaatatttg ttgatggtgt tccatttgta\n",
            "    14401 gtttcaactg gataccactt cagagagcta ggtgttgtac ataatcagga tgtaaactta\n",
            "    14461 catagctcta gacttagttt taaggaatta cttgtgtatg ctgctgaccc tgctatgcac\n",
            "    14521 gctgcttctg gtaatctatt actagataaa cgcactacgt gcttttcagt agctgcactt\n",
            "    14581 actaacaatg ttgcttttca aactgtcaaa cccggtaatt ttaacaaaga cttctatgac\n",
            "    14641 tttgctgtgt ctaagggttt ctttaaggaa ggaagttctg ttgaattaaa acacttcttc\n",
            "    14701 tttgctcagg atggtaatgc tgctatcagc gattatgact actatcgtta taatctacca\n",
            "    14761 acaatgtgtg atatcagaca actactattt gtagttgaag ttgttgataa gtactttgat\n",
            "    14821 tgttacgatg gtggctgtat taatgctaac caagtcatcg tcaacaacct agacaaatca\n",
            "    14881 gctggttttc catttaataa atggggtaag gctagacttt attatgattc aatgagttat\n",
            "    14941 gaggatcaag atgcactttt cgcatataca aaacgtaatg tcatccctac tataactcaa\n",
            "    15001 atgaatctta agtatgccat tagtgcaaag aatagagctc gcaccgtagc tggtgtctct\n",
            "    15061 atctgtagta ctatgaccaa tagacagttt catcaaaaat tattgaaatc aatagccgcc\n",
            "    15121 actagaggag ctactgtagt aattggaaca agcaaattct atggtggttg gcacaacatg\n",
            "    15181 ttaaaaactg tttatagtga tgtagaaaac cctcacctta tgggttggga ttatcctaaa\n",
            "    15241 tgtgatagag ccatgcctaa catgcttaga attatggcct cacttgttct tgctcgcaaa\n",
            "    15301 catacaacgt gttgtagctt gtcacaccgt ttctatagat tagctaatga gtgtgctcaa\n",
            "    15361 gtattgagtg aaatggtcat gtgtggcggt tcactatatg ttaaaccagg tggaacctca\n",
            "    15421 tcaggagatg ccacaactgc ttatgctaat agtgttttta acatttgtca agctgtcacg\n",
            "    15481 gccaatgtta atgcactttt atctactgat ggtaacaaaa ttgccgataa gtatgtccgc\n",
            "    15541 aatttacaac acagacttta tgagtgtctc tatagaaata gagatgttga cacagacttt\n",
            "    15601 gtgaatgagt tttacgcata tttgcgtaaa catttctcaa tgatgatact ttctgacgat\n",
            "    15661 gctgttgtgt gtttcaatag cacttatgca tcacaaggtc tagtggctag cataaagaac\n",
            "    15721 tttaagtcag ttctttatta tcaaaacaat gtttttatgt ctgaagcaaa atgttggact\n",
            "    15781 gagactgacc ttactaaagg acctcatgaa ttttgctctc aacatacaat gctagttaaa\n",
            "    15841 cagggtgatg attatgtgta ccttccttac ccagatccat caagaatcct aggggccggc\n",
            "    15901 tgttttgtag atgatatcgt aaaaacagat ggtacactta tgattgaacg gttcgtgtct\n",
            "    15961 ttagctatag atgcttaccc acttactaaa catcctaatc aggagtatgc tgatgtcttt\n",
            "    16021 catttgtact tacaatacat aagaaagcta catgatgagt taacaggaca catgttagac\n",
            "    16081 atgtattctg ttatgcttac taatgataac acttcaaggt attgggaacc tgagttttat\n",
            "    16141 gaggctatgt acacaccgca tacagtctta caggctgttg gggcttgtgt tctttgcaat\n",
            "    16201 tcacagactt cattaagatg tggtgcttgc atacgtagac cattcttatg ttgtaaatgc\n",
            "    16261 tgttacgacc atgtcatatc aacatcacat aaattagtct tgtctgttaa tccgtatgtt\n",
            "    16321 tgcaatgctc caggttgtga tgtcacagat gtgactcaac tttacttagg aggtatgagc\n",
            "    16381 tattattgta aatcacataa accacccatt agttttccat tgtgtgctaa tggacaagtt\n",
            "    16441 tttggtttat ataaaaatac atgtgttggt agcgataatg ttactgactt taatgcaatt\n",
            "    16501 gcaacatgtg actggacaaa tgctggtgat tacattttag ctaacacctg tactgaaaga\n",
            "    16561 ctcaagcttt ttgcagcaga aacgctcaaa gctactgagg agacatttaa actgtcttat\n",
            "    16621 ggtattgcta ctgtacgtga agtgctgtct gacagagaat tacatctttc atgggaagtt\n",
            "    16681 ggtaaaccta gaccaccact taaccgaaat tatgtcttta ctggttatcg tgtaactaaa\n",
            "    16741 aacagtaaag tacaaatagg agagtacacc tttgaaaaag gtgactatgg tgatgctgtt\n",
            "    16801 gtttaccgag gtacaacaac ttacaaatta aatgttggtg attattttgt gctgacatca\n",
            "    16861 catacagtaa tgccattaag tgcacctaca ctagtgccac aagagcacta tgttagaatt\n",
            "    16921 actggcttat acccaacact caatatctca gatgagtttt ctagcaatgt tgcaaattat\n",
            "    16981 caaaaggttg gtatgcaaaa gtattctaca ctccagggac cacctggtac tggtaagagt\n",
            "    17041 cattttgcta ttggcctagc tctctactac ccttctgctc gcatagtgta tacagcttgc\n",
            "    17101 tctcatgccg ctgttgatgc actatgtgag aaggcattaa aatatttgcc tatagataaa\n",
            "    17161 tgtagtagaa ttatacctgc acgtgctcgt gtagagtgtt ttgataaatt caaagtgaat\n",
            "    17221 tcaacattag aacagtatgt cttttgtact gtaaatgcat tgcctgagac gacagcagat\n",
            "    17281 atagttgtct ttgatgaaat ttcaatggcc acaaattatg atttgagtgt tgtcaatgcc\n",
            "    17341 agattatgtg ctaagcacta tgtgtacatt ggcgaccctg ctcaattacc tgcaccacgc\n",
            "    17401 acattgctaa ctaagggcac actagaacca gaatatttca attcagtgtg tagacttatg\n",
            "    17461 aaaactatag gtccagacat gttcctcgga acttgtcggc gttgtcctgc tgaaattgtt\n",
            "    17521 gacactgtga gtgctttggt ttatgataat aagcttaaag cacataaaga caaatcagct\n",
            "    17581 caatgcttta aaatgtttta taagggtgtt atcacgcatg atgtttcatc tgcaattaac\n",
            "    17641 aggccacaaa taggcgtggt aagagaattc cttacacgta accctgcttg gagaaaagct\n",
            "    17701 gtctttattt caccttataa ttcacagaat gctgtagcct caaagatttt gggactacca\n",
            "    17761 actcaaactg ttgattcatc acagggctca gaatatgact atgtcatatt cactcaaacc\n",
            "    17821 actgaaacag ctcactcttg taatgtaaac agatttaatg ttgctattac cagagcaaaa\n",
            "    17881 gtaggcatac tttgcataat gtctgataga gacctttatg acaagttgca atttacaagt\n",
            "    17941 cttgaaattc cacgtaggaa tgtggcaact ttacaagctg aaaatgtaac aggactcttt\n",
            "    18001 aaagattgta gtaaggtaat cactgggtta catcctacac aggcacctac acacctcagt\n",
            "    18061 gttgacacta aattcaaaac tgaaggttta tgtgttgacg tacctggcat acctaaggac\n",
            "    18121 atgacctata gaagactcat ctctatgatg ggttttaaaa tgaattatca agttaatggt\n",
            "    18181 taccctaaca tgtttatcac ccgcgaagaa gctataagac atgtacgtgc atggattggc\n",
            "    18241 ttcgatgtcg aggggtgtca tgctactaga gaagctgttg gtaccaattt acctttacag\n",
            "    18301 ctaggttttt ctacaggtgt taacctagtt gctgtaccta caggttatgt tgatacacct\n",
            "    18361 aataatacag atttttccag agttagtgct aaaccaccgc ctggagatca atttaaacac\n",
            "    18421 ctcataccgc ttatgtacaa aggacttcct tggaatgtag tgcgtataaa gattgtacaa\n",
            "    18481 atgttaagtg acacacttaa aaatctctct gacagagtcg tatttgtctt atgggcacat\n",
            "    18541 ggctttgagt tgacatctat gaagtatttt gtgaaaatag gacctgagcg cacctgttgt\n",
            "    18601 ctatgtgata gacgtgccac atgcttttcc actgcttcag acacttatgc ctgttggcat\n",
            "    18661 cattctattg gatttgatta cgtctataat ccgtttatga ttgatgttca acaatggggt\n",
            "    18721 tttacaggta acctacaaag caaccatgat ctgtattgtc aagtccatgg taatgcacat\n",
            "    18781 gtagctagtt gtgatgcaat catgactagg tgtctagctg tccacgagtg ttttgttaag\n",
            "    18841 cgtgttgact ggactattga atatcctata attggtgatg aactgaagat taatgcggct\n",
            "    18901 tgtagaaagg ttcaacacat ggttgttaaa gctgcattat tagcagacaa attcccagtt\n",
            "    18961 cttcacgaca ttggtaaccc taaagctatt aagtgtgtac ctcaagctga tgtagaatgg\n",
            "    19021 aagttctatg atgcacagcc ttgtagtgac aaagcttata aaatagaaga attattctat\n",
            "    19081 tcttatgcca cacattctga caaattcaca gatggtgtat gcctattttg gaattgcaat\n",
            "    19141 gtcgatagat atcctgctaa ttccattgtt tgtagatttg acactagagt gctatctaac\n",
            "    19201 cttaacttgc ctggttgtga tggtggcagt ttgtatgtaa ataaacatgc attccacaca\n",
            "    19261 ccagcttttg ataaaagtgc ttttgttaat ttaaaacaat taccattttt ctattactct\n",
            "    19321 gacagtccat gtgagtctca tggaaaacaa gtagtgtcag atatagatta tgtaccacta\n",
            "    19381 aagtctgcta cgtgtataac acgttgcaat ttaggtggtg ctgtctgtag acatcatgct\n",
            "    19441 aatgagtaca gattgtatct cgatgcttat aacatgatga tctcagctgg ctttagcttg\n",
            "    19501 tgggtttaca aacaatttga tacttataac ctctggaaca cttttacaag acttcagagt\n",
            "    19561 ttagaaaatg tggcttttaa tgttgtaaat aagggacact ttgatggaca acagggtgaa\n",
            "    19621 gtaccagttt ctatcattaa taacactgtt tacacaaaag ttgatggtgt tgatgtagaa\n",
            "    19681 ttgtttgaaa ataaaacaac attacctgtt aatgtagcat ttgagctttg ggctaagcgc\n",
            "    19741 aacattaaac cagtaccaga ggtgaaaata ctcaataatt tgggtgtgga cattgctgct\n",
            "    19801 aatactgtga tctgggacta caaaagagat gctccagcac atatatctac tattggtgtt\n",
            "    19861 tgttctatga ctgacatagc caagaaacca attgaaacga tttgtgcacc actcactgtc\n",
            "    19921 ttttttgatg gtagagttga tggtcaagta gacttattta gaaatgcccg taatggtgtt\n",
            "    19981 cttattacag agggtagtgt taaaggttta caaccatctg taggtcccaa acaagctagt\n",
            "    20041 cttaatggag tcacattaat tggagaagcc gtaaaaacac agttcaatta ttataagaaa\n",
            "    20101 gttgatggtg ttgtccaaca attacctgaa acttacttta ctcagagtag aaatttacaa\n",
            "    20161 gaatttaaac ccaggagtca aatggaaatt gatttcttag aattagctat ggatgaattc\n",
            "    20221 attgaacggt ataaattaga aggctatgcc ttcgaacata tcgtttatgg agattttagt\n",
            "    20281 catagtcagt taggtggttt acatctactg attggactag ctaaacgttt taaggaatca\n",
            "    20341 ccttttgaat tagaagattt tattcctatg gacagtacag ttaaaaacta tttcataaca\n",
            "    20401 gatgcgcaaa caggttcatc taagtgtgtg tgttctgtta ttgatttatt acttgatgat\n",
            "    20461 tttgttgaaa taataaaatc ccaagattta tctgtagttt ctaaggttgt caaagtgact\n",
            "    20521 attgactata cagaaatttc atttatgctt tggtgtaaag atggccatgt agaaacattt\n",
            "    20581 tacccaaaat tacaatctag tcaagcgtgg caaccgggtg ttgctatgcc taatctttac\n",
            "    20641 aaaatgcaaa gaatgctatt agaaaagtgt gaccttcaaa attatggtga tagtgcaaca\n",
            "    20701 ttacctaaag gcataatgat gaatgtcgca aaatatactc aactgtgtca atatttaaac\n",
            "    20761 acattaacat tagctgtacc ctataatatg agagttatac attttggtgc tggttctgat\n",
            "    20821 aaaggagttg caccaggtac agctgtttta agacagtggt tgcctacggg tacgctgctt\n",
            "    20881 gtcgattcag atcttaatga ctttgtctct gatgcagatt caactttgat tggtgattgt\n",
            "    20941 gcaactgtac atacagctaa taaatgggat ctcattatta gtgatatgta cgaccctaag\n",
            "    21001 actaaaaatg ttacaaaaga aaatgactct aaagagggtt ttttcactta catttgtggt\n",
            "    21061 tttatacaac aaaagctagc tcttggaggt tccgtggcta taaagataac agaacattct\n",
            "    21121 tggaatgctg atctttataa gctcatggga cacttcgcat ggtggacagc ctttgttact\n",
            "    21181 aatgtgaatg cgtcatcatc tgaagcattt ttaattggat gtaattatct tggcaaacca\n",
            "    21241 cgcgaacaaa tagatggtta tgtcatgcat gcaaattaca tattttggag gaatacaaat\n",
            "    21301 ccaattcagt tgtcttccta ttctttattt gacatgagta aatttcccct taaattaagg\n",
            "    21361 ggtactgctg ttatgtcttt aaaagaaggt caaatcaatg atatgatttt atctcttctt\n",
            "    21421 agtaaaggta gacttataat tagagaaaac aacagagttg ttatttctag tgatgttctt\n",
            "    21481 gttaacaact aaacgaacaa tgtttgtttt tcttgtttta ttgccactag tctctagtca\n",
            "    21541 gtgtgtcatg ccgctgttta atcttataac tacaactcaa tcatacacta atttcacacg\n",
            "    21601 tggtgtttat taccctgaca aagttttcag atcctcagtt ttacatttaa ctcaggactt\n",
            "    21661 gttcttacct ttcttttcca atgttacttg gttccatgct atctctggga ccaatggtac\n",
            "    21721 taagaggttt gataaccctg tcctaccatt taatgatggt gtttattttg cttccactga\n",
            "    21781 gaagtctaac ataataagag gctggatttt tggtactact ttagattcga agacccagtc\n",
            "    21841 cctacttatt gttaataacg ctactaatgt ttttattaaa gtctgtgaat ttcaattttg\n",
            "    21901 taatgatcca tttttggatg tttaccacaa aaacaacaaa agttggatgg aaagtgagtc\n",
            "    21961 aggagtttat tctagtgcga ataattgcac ttttgaatat gtctctcagc cttttcttat\n",
            "    22021 ggaccttgaa ggaaaacatg gtaatttcaa aaatcttagg gaatttgtgt ttaagaatat\n",
            "    22081 tgatggttat tttaaaatat attctaagca cacgcctatt atagggcgtg atttccctca\n",
            "    22141 gggtttttcg gctttagaac cattggtaga tttgccaata ggtattaaca tcactaggtt\n",
            "    22201 tcaaacttta cttgctttaa atagaagtta tttgactcct ggtgattctt cttcaggttg\n",
            "    22261 gacagctggt gctgcagatt attatgtggg ttatcttcaa cctaggactt ttctattaaa\n",
            "    22321 atataatgaa aatggaacca ttacagatgc tgtagactgt gcacttgacc ctctctcaga\n",
            "    22381 aacaaagtgt acgttgaaat ccttcactgt agaaaaagga atctatcaaa cttctaactt\n",
            "    22441 tagagtccaa ccaacagaat ctattgttag atttcctaat gttacaaact tgtgcccttt\n",
            "    22501 tcatgaagtt tttaacgcca ccacatttgc atctgtttat gcttggaaca ggacgagaat\n",
            "    22561 cagcaactgt gttgctgatt attctgtcct atataatttc gcaccatttt tcgcttttaa\n",
            "    22621 gtgttatgga gtgtctccta ctaaattaaa tgatctctgc tttactaatg tctatgcaga\n",
            "    22681 ttcatttgta attaaaggta atgaagtcag ccaaatcgct ccagggcaaa ctggaaatat\n",
            "    22741 tgctgattat aattataaat taccagatga ttttacaggc tgcgttatag cttggaattc\n",
            "    22801 taacaagctt gattctaagc atagtggtaa ttatgattac tggtatagat cgcttaggaa\n",
            "    22861 gtctaaactc aaaccttttg agagagatat ttcaactgaa atctatcagg ccggtaacaa\n",
            "    22921 accttgtaaa ggtaaaggtc ctaattgtta ctttccttta caatcatatg gtttccgacc\n",
            "    22981 cacttatggt gttggtcacc aaccatacag agtagtagta ctttcttttg aacttctaca\n",
            "    23041 tgcaccagca actgtttgtg gacctaaaaa gtctactaat ttggttaaaa acaaatgtgt\n",
            "    23101 caatttcaac ttcaatggtt taacaggcac aggtgttctt actaagtcta acaaaaagtt\n",
            "    23161 tctgcctttc caacaatttg gcagagacat tgttgacact actgatgctg tccgtgatcc\n",
            "    23221 acagacactt gagattcttg acattacacc atgttctttt ggtggtgtca gtgttataac\n",
            "    23281 accaggaaca aatacttcta accaggttgc tgttctttat cagggtgtta actgcacaga\n",
            "    23341 agtctctgtt gctattcatg cagatcaact tactcctact tggcgtgttt attctacagg\n",
            "    23401 ttctaatgtt tttcaaacac gtgcaggctg tttaataggg gctgaatatg tcaacaactc\n",
            "    23461 atatgagtgt gacataccca ttggtgcagg tatatgcgct agttatcaga ctcagactaa\n",
            "    23521 ntctcntcgg cnnnnnnnnn nnnnnnnnnn nnnnnnnnnn nnnnnnnnnn nnnnnnnnnn\n",
            "    23581 nnnnnnnnnn nnnnnnnnnn nnnnnnnnnn nnnnnnnnnn nnnnnnnnnn nnnnnnnnnn\n",
            "    23641 nnnnnnnnnn nnnnnnnnnn nnnnnnnnnn nnnnnnnnnn nnnnnnnnnn nnnnnnnnnn\n",
            "    23701 nnnnnnnnnn nnnnnnnnnn nnnnnnnnnn nnnnnnnnnn nnnnnnnnnn nnnnnnnnnn\n",
            "    23761 nnnnnnnnnn nnnnnnnnnn nnnnnnnnnn nnnnnnnnnn nnnnnnnnnn nnnnnnnnnn\n",
            "    23821 nnnnnnnnnn nnnnnnnnnn nnnnnnnnnn nnnnnnnnnn nnnnnnnnnn nnnnnnnnnn\n",
            "    23881 nnnnnnnnnn nnnnnnnnnn nnnnnnnnnn nnnnnnnnnn nnnnnnnnnn nnnnnnnnnn\n",
            "    23941 nnnnnnnnnn nnnnnnnnnn nnnnnnnnnn nnnnnnnnnn nnnnnnnnnn nnnnnnnnnn\n",
            "    24001 nnnnnnnnnn nnnnnnnnnn nnnnnnnnnn nnnnnnnnnn nnnnnnnnnn nnnnnnnnnn\n",
            "    24061 nnnnnnnnnn nnnnnnnnnn nnnnnnnnnn nnnnnnnnnn nnnnnnnnnn nnnnnnnnnn\n",
            "    24121 nnnnnnnnnn nnnnnnnnnn nnnnnnnnnn nnnnnnnnnn nnnnnnnnnn nnnnnnnnnn\n",
            "    24181 nnnnnnnnnn nnnnnnnnnn nnnnnnnnnn nnnnnnnnnn nnnnnnnnnn nnnnnnnnnn\n",
            "    24241 nnnnnnnnnn nnnnnnnnnn nnnnnnnnnn nnnnnnnnnn nnnnnnnnnn nnnnnnnnnn\n",
            "    24301 nnnnnnnnnn nnnnnnnnnn nnnnnnnnnn nnnnnnnnnn nnnnnnnnnn nnnnnnnnnn\n",
            "    24361 nnnnnnnnnn nnnnnnnnnn nnnnnnnnnn nnnnnnnnnn nnnnnnnnnn nnnnnnnnnn\n",
            "    24421 nnnnnnnnnn nnnnnnnnnn nnnnnnnnnn nnnnnnnnnn nnnnnnnnnn nnnnnnnnnn\n",
            "    24481 nnnnnnnnnn nnnnnnnnnn nnnnnnnnnn nnnnnnnnnn nnnnnnnnnn nnnnnnnnnn\n",
            "    24541 nnnnnnnnnn nnnnnnnnnn nnnnnnnnnn nnnnnnnnnn gtacttggac aatcaaaaag\n",
            "    24601 agttgatttt tgtggaaagg gctatcatct tatgtccttc cctcagtcag cacctcatgg\n",
            "    24661 tgtagtcttc ttgcatgtga cttatgtccc tgcacaagaa aagaacttca caactgctcc\n",
            "    24721 tgccatttgt catgatggaa aagcacactt tcctcgtgaa ggtgtctttg tttcaaatgg\n",
            "    24781 cacacactgg tttgtaacac aaaggaattt ttatgaacca caaatcatta ctacagacaa\n",
            "    24841 cacatttgtg tctggtaact gtgatgttgt aataggaatt gtcaacaaca cagtttatga\n",
            "    24901 tcctttgcaa cttgaattag attcattcaa ggaggagtta gataaatatt ttaagaatca\n",
            "    24961 tacatcacca gatgttgatt taggtgacat ctctggcatt aatgcttcag ttgtaaacat\n",
            "    25021 tcaaaaagaa attgaccgcc tcaatgaggt tgccaagaat ttaaatgaat ctctcatcga\n",
            "    25081 tctccaagaa cttggaaagt atgagcagta tataaaatgg ccatggtata tttggctagg\n",
            "    25141 ttttatagct ggcttgattg ccatagtaat ggtgacaatt atgctttgct gtatgaccag\n",
            "    25201 ttgctgtagt tgtctcaagg gctgttgttc ttgtggatcc tgctgcaaat ttgatgaaga\n",
            "    25261 cgactctgag ccagtgctca aaggagtcaa attacattac acataaacga acttatggat\n",
            "    25321 ttgtttatga gaatcttcac aattggaact gtaactttga agcaaggtga aatcaaggat\n",
            "    25381 gctactcctt cagattttgt tcgcgctact gcaacgatac cgatacaagc ctcactccct\n",
            "    25441 ttcggatggc ttattgttgg cgttgcactt cttgctgttt ttcagagcgc ttccaaaatc\n",
            "    25501 ataactctca aaaagagatg gcaactagca ctctccaagg gtgttcactt tgtttgcaac\n",
            "    25561 ttgctgttgt tgtttgtaac agtttactca caccttttgc tcgttgctgc tggccttgaa\n",
            "    25621 gccccttttc tctatcttta tgctttagtc tacttcttgc agagtataaa ctttgtaaga\n",
            "    25681 ataataatga ggctttggct ttgctggaaa tgccgttcca aaaacccatt actttatgat\n",
            "    25741 gccaactatt ttctttgctg gcatactaat tgttacgact attgtatacc ttacaatagt\n",
            "    25801 gtaacttctt caattgtcat tacttcaggt gatggcacaa caagtcctat ttctgaacat\n",
            "    25861 gactaccaga ttggtggtta tactgaaaaa tgggaatctg gagtaaaaga ctgtgttgta\n",
            "    25921 ttacacagtt acttcacttc agactattac cagctgtact caactcaatt gagtacagac\n",
            "    25981 attggtgttg aacatgttac cttcttcatc tacaataaaa ttgttgatga gcctgaagaa\n",
            "    26041 catgtccaaa ttcacacaat cgacggttca tccggagttg ttaatccagt aatggaacca\n",
            "    26101 atttatgatg aaccgacgac gactactagc gtgcctttgt aagcacaagc tgatgagtac\n",
            "    26161 gaacttatgt actcattcgt ttcggaagag ataggtacgt taatagttaa tagcgtactt\n",
            "    26221 ctttttcttg ctttcgtggt attcttgcta gttacactag ccatccttac tgcgcttcga\n",
            "    26281 ttgtgtgcgt actgctgcaa tattgttaac gtgagtcttg taaaaccttc tttttacgtt\n",
            "    26341 tactctcgtg ttaaaaatct gaattcttct agagttcctg atcttctggt ctaaacgaac\n",
            "    26401 taaatattat attagttttt ctgtttggaa ctttaatttt agccatggca cattccaacg\n",
            "    26461 gtactattac cgttgaagag cttaaaaagc tccttgaaga atggaaccta gtaataggtt\n",
            "    26521 tcctattcct tgcatggatt tgtcttctac aatttgccta tgccaacagg aataggtttt\n",
            "    26581 tgtatataat taagttaatt tttctctggc tgttatggcc agtaacttta acttgttttg\n",
            "    26641 tgcttgctgc tgtttacaga ataaattgga tcaccggtgg aattgctatc gcaatggctt\n",
            "    26701 gtcttgtagg cttgatgtgg ctcagctact tcattgcttc tttcagactg tttgtgcgta\n",
            "    26761 cgcgttccat gtggtcattt aatccagaaa ctaacattct tctcaacgtg ccactccatg\n",
            "    26821 gcactattct gaccagaccg cttctagaaa gtgaactcgt aatcggagct gtgatccttc\n",
            "    26881 gtggacatct tcgtattgct ggacaccatc taggacgctg tgacatcaag gacctgccta\n",
            "    26941 aagaaatcac tgttgctaca tcacgaacgc tttcttatta caaattggga gcttcgcagc\n",
            "    27001 gtgtagcagg tgactcaggt tttgctgcat acagtcgcta caggattggc aactataaat\n",
            "    27061 taaacacaga ccattccagt agcagtgaca atattgcttt gcttgtacag taagtgacaa\n",
            "    27121 cagatgtttc atctcgttga ctttcaggtt actatagcag agatattact aattattatg\n",
            "    27181 cggactttta aagtttccat ttggaatctt gattacatca taaacctcat aattaaaaat\n",
            "    27241 ttatctaagt cactaactga gaataaatat tctcaattag atgaagagca accaatggag\n",
            "    27301 attctctaaa cgaacatgaa aattattctt ttcttggcac tgataacact cgctacttgt\n",
            "    27361 gagctttatc actaccaaga gtgtgttaga ggtacaacag tacttttaaa agaaccttgc\n",
            "    27421 tcttctggaa catacgaggg caattcacca tttcatcctc tagctgataa caaatttgca\n",
            "    27481 ctgacttgct ttagcactca atttgctttt gcttgtcctg acggcgtaaa acacgtctat\n",
            "    27541 cagttacgtg ccagatcagt ttcacctaaa ctgttcatca gacaagagga agttcaagaa\n",
            "    27601 ctttactctc caatttttct tattgttgcg gcaatagtgt ttataacact ttgcttcaca\n",
            "    27661 ctcaaaagaa agacagaatg attgaacttt cattaattga cttctatttg tgctttttag\n",
            "    27721 cctttctgtt actccttgtt ttaattatgc ttattatctt ttggttctca cttgaactgc\n",
            "    27781 aagatcataa tgaaacttgt cacgcctaaa cgaacatgaa atttcttgtt ttcttaggaa\n",
            "    27841 tcatcacaac tgtagctgca tttcaccaag aatgtagttt acagtcatgt actcaacatc\n",
            "    27901 aaccatatgt agttgatgac ccgtgtccta ttcacttcta ttctaaatgg tatattagag\n",
            "    27961 taggagctag aaaatcagca cctttaattg aattgtgcgt ggatgaggct ggttctaaat\n",
            "    28021 cacccattca gtacatcgat atcggtaatt atacagtttc ctgtttacct tttacaatta\n",
            "    28081 attgccagga acctaaattg ggtagtcttg tagtgcgttg ttcgttctat gaagactttt\n",
            "    28141 tagagtatca tgacgttcgt gttgttttag atttcatcta aacgaacaaa cttaaatgtc\n",
            "    28201 tgataatgga ccccaaaatc agcgaaatgc actccgcatt acgtttggtg gaccctcaga\n",
            "    28261 ttcaactggc agtaaccaga atggtggggc gcgatcaaaa caacgtcggc cccaaggttt\n",
            "    28321 acccaataat actgcgtctt ggttcaccgc tctcactcaa catggcaagg aagaccttaa\n",
            "    28381 attccctcga ggacaaggcg ttccaattaa caccaatagc agtccagatg accaaattgg\n",
            "    28441 ctactaccga agagctacca gacgaattcg tggtggtgac ggtaaaatga aagatctcag\n",
            "    28501 tccaagatgg tatttctact acctaggaac tgggccagaa gctggacttc cctatggtgc\n",
            "    28561 taacaaagac ggcatcatat gggttgcaac tgagggagcc ttgaatacac caaaagatca\n",
            "    28621 cattggcacc cgcaatcctg ctaacaatgc tgcaatcgtg ctacaacttc ctcaaggaac\n",
            "    28681 aacattgcca aaaggcttct acgcagaagg gagcagaggc ggcagtcaag cctcttctcg\n",
            "    28741 ttcctcatca cgtagtcgca acagttcaag aaattcaact ccaggcagca gtaaacgaac\n",
            "    28801 ttctcctgct agaatggctg gcaatggcgg tgatgctgct cttgctttgc tgctgcttga\n",
            "    28861 cagattgaac aagcttgaga gcaaaatgtc tggtaaaggc caacaacaac aaggccaaac\n",
            "    28921 tgtcactaag aaatctgctg ctgaggcttc taagaagcct cggcaaaaac gtactgccac\n",
            "    28981 taaagcatac aatgtaacac aagctttcgg cagacgtggt ccagaacaaa cccaaggaaa\n",
            "    29041 ttttggggac caggaactaa tcagacaagg aactgattac aaacattggc cgcaaattgc\n",
            "    29101 acaatttgcc cccagcgctt cagcgttctt cggaatgtcg cgcattggca tggaagtcac\n",
            "    29161 accttcggga acgtggttga cctacacagg tgccatcaaa ttggatgaca aagatccaaa\n",
            "    29221 tttcaaagat caagtcattt tgctgaataa gcatattgac gcatacaaaa cattcccacc\n",
            "    29281 aacagagcct aaaaaggaca aaaagaagaa ggctgatgaa actcaagcct taccgcagag\n",
            "    29341 acagaagaaa cagcaaactg tgactcttct tcctgctgca gatttggatg atttctccaa\n",
            "    29401 acaattgcaa caatccatga gccgtgctga ctcaactcag gcctaaactc atgcagacca\n",
            "    29461 cacaaggcag atgggctata taaacgtttt cgcttttccg tttacgatat atagtctact\n",
            "    29521 cttgtgcaga atgaattctc gtaactacat agcacaagta gatgtagtta actttaatct\n",
            "    29581 cacatagcaa tctttaatca gtgtgtaaca ttagggagga cttgaaagag ccaccacatt\n",
            "    29641 ttcacc\n",
            "//\n",
            "\n",
            "\n"
          ]
        }
      ]
    },
    {
      "cell_type": "code",
      "source": [
        "handle.close()"
      ],
      "metadata": {
        "id": "azU-HxJTU2SF"
      },
      "execution_count": 37,
      "outputs": []
    },
    {
      "cell_type": "markdown",
      "source": [
        "**Protien Data Base (PDB)**\n",
        "\n",
        "The main function of this database is to organize 3-D structural data of large biological molecules including proteins and nucleic acids of all the organisms including bacteria, yeast, plants, flies, other animals and humans. The three-dimensional structures of the biological macromolecules data available with PDB is determined by experimental methods such as X-ray crystallography, Nuclear magnetic resonance (NMR) spectroscopy, electron microscopy."
      ],
      "metadata": {
        "id": "U5rgaKkQYrAm"
      }
    },
    {
      "cell_type": "code",
      "source": [
        "from Bio.PDB import PDBParser, PDBList"
      ],
      "metadata": {
        "id": "KoS7q-_TY87p"
      },
      "execution_count": 39,
      "outputs": []
    },
    {
      "cell_type": "code",
      "source": [
        "pdbl=PDBList()"
      ],
      "metadata": {
        "colab": {
          "base_uri": "https://localhost:8080/"
        },
        "id": "bMmk8rabZGl9",
        "outputId": "7a13692b-9c84-4666-8d78-d63559a8327d"
      },
      "execution_count": 41,
      "outputs": [
        {
          "output_type": "execute_result",
          "data": {
            "text/plain": [
              "<Bio.PDB.PDBList.PDBList at 0x7dd430333400>"
            ]
          },
          "metadata": {},
          "execution_count": 41
        }
      ]
    },
    {
      "cell_type": "code",
      "source": [
        "pdbl.retrieve_pdb_file(\"7BYR\", file_format=\"pdb\", pdir=\"dir\")"
      ],
      "metadata": {
        "colab": {
          "base_uri": "https://localhost:8080/",
          "height": 53
        },
        "id": "FzgjY5uLZswG",
        "outputId": "548d0456-a826-4681-ff5b-18bb576fbd4a"
      },
      "execution_count": 42,
      "outputs": [
        {
          "output_type": "stream",
          "name": "stdout",
          "text": [
            "Structure exists: 'dir/pdb7byr.ent' \n"
          ]
        },
        {
          "output_type": "execute_result",
          "data": {
            "text/plain": [
              "'dir/pdb7byr.ent'"
            ],
            "application/vnd.google.colaboratory.intrinsic+json": {
              "type": "string"
            }
          },
          "metadata": {},
          "execution_count": 42
        }
      ]
    },
    {
      "cell_type": "code",
      "source": [
        "parser=PDBParser()\n",
        "structure=parser.get_structure(\"7BYR\", \"dir/pdb7byr.ent\")"
      ],
      "metadata": {
        "colab": {
          "base_uri": "https://localhost:8080/"
        },
        "id": "FglV1j0fZ1Ql",
        "outputId": "a502eef9-0ba2-433a-a548-87bca700cd86"
      },
      "execution_count": 44,
      "outputs": [
        {
          "output_type": "stream",
          "name": "stderr",
          "text": [
            "/usr/local/lib/python3.10/dist-packages/Bio/PDB/StructureBuilder.py:100: PDBConstructionWarning: WARNING: Chain A is discontinuous at line 26237.\n",
            "  warnings.warn(\n",
            "/usr/local/lib/python3.10/dist-packages/Bio/PDB/StructureBuilder.py:100: PDBConstructionWarning: WARNING: Chain B is discontinuous at line 26405.\n",
            "  warnings.warn(\n",
            "/usr/local/lib/python3.10/dist-packages/Bio/PDB/StructureBuilder.py:100: PDBConstructionWarning: WARNING: Chain C is discontinuous at line 26545.\n",
            "  warnings.warn(\n"
          ]
        }
      ]
    },
    {
      "cell_type": "code",
      "source": [
        "for chain in structure[0]:\n",
        "  print(f\"chainid: {chain.id}\")"
      ],
      "metadata": {
        "colab": {
          "base_uri": "https://localhost:8080/"
        },
        "id": "o2KvPpFfaK7F",
        "outputId": "1ece3645-0193-4cdf-bbfa-d14d532d5d3c"
      },
      "execution_count": 45,
      "outputs": [
        {
          "output_type": "stream",
          "name": "stdout",
          "text": [
            "chainid: A\n",
            "chainid: B\n",
            "chainid: C\n",
            "chainid: H\n",
            "chainid: L\n",
            "chainid: D\n",
            "chainid: E\n",
            "chainid: F\n",
            "chainid: G\n",
            "chainid: I\n",
            "chainid: J\n"
          ]
        }
      ]
    },
    {
      "cell_type": "code",
      "source": [
        "resolution=structure.header[\"resolution\"]\n",
        "print(f\"Resolution: {resolution}\")"
      ],
      "metadata": {
        "colab": {
          "base_uri": "https://localhost:8080/"
        },
        "id": "g5JvmxFPaYeV",
        "outputId": "1500c1fa-e393-4744-f482-d734435fa0ad"
      },
      "execution_count": 46,
      "outputs": [
        {
          "output_type": "stream",
          "name": "stdout",
          "text": [
            "Resolution: 3.84\n"
          ]
        }
      ]
    },
    {
      "cell_type": "code",
      "source": [
        "keywords=structure.header[\"keywords\"]\n",
        "print(f\"Keywords: {keywords}\")"
      ],
      "metadata": {
        "colab": {
          "base_uri": "https://localhost:8080/"
        },
        "id": "tJisitlCannh",
        "outputId": "2b27dc2b-e2da-468a-f65c-df6fb41c28b5"
      },
      "execution_count": 47,
      "outputs": [
        {
          "output_type": "stream",
          "name": "stdout",
          "text": [
            "Keywords: sars-cov-2, antigen, rbd, neutralizing antibody, viral protein\n"
          ]
        }
      ]
    },
    {
      "cell_type": "markdown",
      "source": [
        "# **EXPASY**"
      ],
      "metadata": {
        "id": "7qtj-oKBdKMD"
      }
    },
    {
      "cell_type": "markdown",
      "source": [
        "Expasy is the bioinformatics resource portal of the SIB Swiss Institute of Bioinformatics (more about its history).\n",
        "\n",
        "It is an extensible and integrative portal which provides access to over 160 databases and software tools, developed by SIB Groups and supporting a range of life science and clinical research domains, from genomics, proteomics and structural biology, to evolution and phylogeny, systems biology and medical chemistry.\n",
        "\n",
        "PROSITE consists of documentation entries describing protein domains, families and functional sites as well as associated patterns and profiles to identify them"
      ],
      "metadata": {
        "id": "Lee03vtodSh2"
      }
    },
    {
      "cell_type": "code",
      "source": [
        "from Bio import ExPASy\n",
        "from Bio.ExPASy import Prosite"
      ],
      "metadata": {
        "id": "vPjgPc0od2PX"
      },
      "execution_count": 49,
      "outputs": []
    },
    {
      "cell_type": "code",
      "source": [
        "handle=ExPASy.get_prosite_raw('PS51442')\n",
        "record=Prosite.read(handle)"
      ],
      "metadata": {
        "id": "EjOXFlxGeAVS"
      },
      "execution_count": 50,
      "outputs": []
    },
    {
      "cell_type": "code",
      "source": [
        "print(record.description)"
      ],
      "metadata": {
        "colab": {
          "base_uri": "https://localhost:8080/"
        },
        "id": "40NcswqreWQE",
        "outputId": "a378574a-a0ec-45da-8b22-867febc4b28a"
      },
      "execution_count": 51,
      "outputs": [
        {
          "output_type": "stream",
          "name": "stdout",
          "text": [
            "Coronavirus main protease (M-pro) domain profile.\n"
          ]
        }
      ]
    },
    {
      "cell_type": "code",
      "source": [
        "print(record.pdb_structs)"
      ],
      "metadata": {
        "colab": {
          "base_uri": "https://localhost:8080/"
        },
        "id": "T1cl68t1eeRv",
        "outputId": "f5fa36af-30b5-47d9-9914-fbc80cb8fa14"
      },
      "execution_count": 58,
      "outputs": [
        {
          "output_type": "stream",
          "name": "stdout",
          "text": [
            "[]\n"
          ]
        }
      ]
    },
    {
      "cell_type": "markdown",
      "source": [
        "To find patterns in this domain profile:"
      ],
      "metadata": {
        "id": "Z_vx2uxefPnW"
      }
    },
    {
      "cell_type": "code",
      "source": [
        "handle=ExPASy.get_prosite_raw('PS00001')\n",
        "records=Prosite.read(handle)\n",
        "print(record.pattern)"
      ],
      "metadata": {
        "colab": {
          "base_uri": "https://localhost:8080/"
        },
        "id": "HBrc2ZC6fOIX",
        "outputId": "a1188ed6-9e5a-4019-bd6d-6f2b101e28a7"
      },
      "execution_count": 59,
      "outputs": [
        {
          "output_type": "stream",
          "name": "stdout",
          "text": [
            "\n"
          ]
        }
      ]
    },
    {
      "cell_type": "markdown",
      "source": [
        "**ScanProsite**\n",
        "\n",
        "ScanProsite allows to scan proteins for matches against the PROSITE collection of motifs as well as against user-defined patterns."
      ],
      "metadata": {
        "id": "t9JLC4hpf_iD"
      }
    },
    {
      "cell_type": "code",
      "source": [
        "from Bio.ExPASy import ScanProsite"
      ],
      "metadata": {
        "id": "Nw5fGYyEgDfK"
      },
      "execution_count": 61,
      "outputs": []
    },
    {
      "cell_type": "code",
      "source": [
        "prot_record=SeqIO.read(\"prot_seq.fasta\", format=\"fasta\")\n",
        "len(prot_record.seq)"
      ],
      "metadata": {
        "colab": {
          "base_uri": "https://localhost:8080/"
        },
        "id": "KaMlMWb8gfzj",
        "outputId": "270c7d6b-9729-43aa-a2a6-937fa6e3ab88"
      },
      "execution_count": 60,
      "outputs": [
        {
          "output_type": "execute_result",
          "data": {
            "text/plain": [
              "258"
            ]
          },
          "metadata": {},
          "execution_count": 60
        }
      ]
    },
    {
      "cell_type": "code",
      "source": [
        "handle= ScanProsite.scan(prot_record.seq, mirror=\"https://prosite.expasy.org/\")\n",
        "result=ScanProsite.read(handle)"
      ],
      "metadata": {
        "id": "1wo5bsHzg8fH"
      },
      "execution_count": 64,
      "outputs": []
    },
    {
      "cell_type": "code",
      "source": [
        "result.n_match"
      ],
      "metadata": {
        "colab": {
          "base_uri": "https://localhost:8080/"
        },
        "id": "HAyo6Ty9hIck",
        "outputId": "645be485-d3f2-49bb-c649-378a05d950a9"
      },
      "execution_count": 65,
      "outputs": [
        {
          "output_type": "execute_result",
          "data": {
            "text/plain": [
              "1"
            ]
          },
          "metadata": {},
          "execution_count": 65
        }
      ]
    },
    {
      "cell_type": "code",
      "source": [
        "result[0]"
      ],
      "metadata": {
        "colab": {
          "base_uri": "https://localhost:8080/"
        },
        "id": "PCLRXwYJhaYw",
        "outputId": "b667d669-4732-459a-a258-928a036813b2"
      },
      "execution_count": 66,
      "outputs": [
        {
          "output_type": "execute_result",
          "data": {
            "text/plain": [
              "{'sequence_ac': 'USERSEQ1',\n",
              " 'start': 1,\n",
              " 'stop': 118,\n",
              " 'signature_ac': 'PS51921',\n",
              " 'score': '32.871',\n",
              " 'level': '0'}"
            ]
          },
          "metadata": {},
          "execution_count": 66
        }
      ]
    },
    {
      "cell_type": "markdown",
      "source": [
        "# **KEGG**\n",
        "KEGG (Kyoto Encyclopedia of Genes and Genomes) is a knowledge base for systematic analysis of gene functions, linking genomic information with higher order functional information.\n",
        "\n",
        "KEGG mapping is the process to map molecular objects (genes, proteins, small molecules, etc.) to molecular network objects (KEGG pathway maps, BRITE hierarchies and KEGG modules). It is not simply an enrichment process; rather it is a set operation to generate a new set."
      ],
      "metadata": {
        "id": "Bd2XUIe2hpuD"
      }
    },
    {
      "cell_type": "markdown",
      "source": [
        "enzyme commission number followed by file format\n",
        "\n",
        "we find the class of the enzyme and its pathways"
      ],
      "metadata": {
        "id": "2lHLCG4djfcs"
      }
    },
    {
      "cell_type": "code",
      "source": [
        "from Bio.KEGG import REST, Enzyme"
      ],
      "metadata": {
        "id": "L3NswnbWjjVI"
      },
      "execution_count": 67,
      "outputs": []
    },
    {
      "cell_type": "code",
      "source": [
        "#help(Enzyme)"
      ],
      "metadata": {
        "id": "Ctx5cf0hjo4g"
      },
      "execution_count": 69,
      "outputs": []
    },
    {
      "cell_type": "code",
      "source": [
        "request=REST.kegg_get(\"ec:2.7.1.1\")\n",
        "open(\"ec_2.7.1.1.txt\", \"w\").write(request.read())"
      ],
      "metadata": {
        "colab": {
          "base_uri": "https://localhost:8080/"
        },
        "id": "8gm5EisKj2TM",
        "outputId": "af7205ec-8077-4395-d125-9f94192df394"
      },
      "execution_count": 70,
      "outputs": [
        {
          "output_type": "execute_result",
          "data": {
            "text/plain": [
              "73291"
            ]
          },
          "metadata": {},
          "execution_count": 70
        }
      ]
    },
    {
      "cell_type": "code",
      "source": [
        "records=Enzyme.parse(open(\"ec_2.7.1.1.txt\"))\n",
        "record=list(records)[0]\n",
        "record.classname"
      ],
      "metadata": {
        "colab": {
          "base_uri": "https://localhost:8080/"
        },
        "id": "rt1o4PB7kBN1",
        "outputId": "1ef73b51-4b75-4560-825c-1f9e94962eda"
      },
      "execution_count": 71,
      "outputs": [
        {
          "output_type": "execute_result",
          "data": {
            "text/plain": [
              "['Transferases;',\n",
              " 'Transferring phosphorus-containing groups;',\n",
              " 'Phosphotransferases with an alcohol group as acceptor']"
            ]
          },
          "metadata": {},
          "execution_count": 71
        }
      ]
    },
    {
      "cell_type": "code",
      "source": [
        "record.pathway"
      ],
      "metadata": {
        "colab": {
          "base_uri": "https://localhost:8080/"
        },
        "id": "ljFfFwkVkOi-",
        "outputId": "9a746820-bc55-4109-99cf-0c75f8b7d1d2"
      },
      "execution_count": 72,
      "outputs": [
        {
          "output_type": "execute_result",
          "data": {
            "text/plain": [
              "[('PATH', 'ec00010', 'Glycolysis / Gluconeogenesis'),\n",
              " ('PATH', 'ec00051', 'Fructose and mannose metabolism'),\n",
              " ('PATH', 'ec00052', 'Galactose metabolism'),\n",
              " ('PATH', 'ec00500', 'Starch and sucrose metabolism'),\n",
              " ('PATH', 'ec00520', 'Amino sugar and nucleotide sugar metabolism'),\n",
              " ('PATH', 'ec00521', 'Streptomycin biosynthesis'),\n",
              " ('PATH', 'ec00524', 'Neomycin, kanamycin and gentamicin biosynthesis'),\n",
              " ('PATH', 'ec01100', 'Metabolic pathways'),\n",
              " ('PATH', 'ec01110', 'Biosynthesis of secondary metabolites'),\n",
              " ('PATH', 'ec01120', 'Microbial metabolism in diverse environments')]"
            ]
          },
          "metadata": {},
          "execution_count": 72
        }
      ]
    },
    {
      "cell_type": "code",
      "source": [
        "record.genes[:10]"
      ],
      "metadata": {
        "colab": {
          "base_uri": "https://localhost:8080/"
        },
        "id": "M0HX-LWbkTIR",
        "outputId": "d9a26a37-2bb4-4b4b-88f8-dd1d1a4f44e5"
      },
      "execution_count": 73,
      "outputs": [
        {
          "output_type": "execute_result",
          "data": {
            "text/plain": [
              "[('HSA', ['3098', '3099', '3101', '80201']),\n",
              " ('PTR', ['100614100', '450504', '450505', '462298', '741291']),\n",
              " ('PPS', ['100969639', '100969975', '100983149', '100990081', '100993163']),\n",
              " ('GGO', ['101125395', '101127052', '101131029', '101146050']),\n",
              " ('PON', ['100172246', '100433183', '100458288', '100460834']),\n",
              " ('PPYG', ['129006684', '129006686', '129024134', '129030047', '129037450']),\n",
              " ('NLE', ['100591401', '100593006', '100595352', '100595917']),\n",
              " ('HMH', ['116458837', '116458853', '116471905', '116483233']),\n",
              " ('SSYN', ['129461764', '129475469', '129480585', '129480586', '129485964']),\n",
              " ('MCC', ['698120', '710479', '711922', '711995'])]"
            ]
          },
          "metadata": {},
          "execution_count": 73
        }
      ]
    },
    {
      "cell_type": "code",
      "source": [
        "record.reaction"
      ],
      "metadata": {
        "colab": {
          "base_uri": "https://localhost:8080/"
        },
        "id": "FQFS0Kemkbga",
        "outputId": "298741cb-c7fb-4900-95a9-ceab060d0157"
      },
      "execution_count": 76,
      "outputs": [
        {
          "output_type": "execute_result",
          "data": {
            "text/plain": [
              "['ATP + D-hexose = ADP + D-hexose 6-phosphate [RN:R02848]']"
            ]
          },
          "metadata": {},
          "execution_count": 76
        }
      ]
    },
    {
      "cell_type": "code",
      "source": [
        "list_genes=[]\n",
        "for x,y in record.genes:\n",
        "  list_genes.append(x)\n",
        "print(list_genes[:10])"
      ],
      "metadata": {
        "colab": {
          "base_uri": "https://localhost:8080/"
        },
        "id": "T2ATJvjqkikD",
        "outputId": "a4bda0dd-3354-417c-b12e-a5ad638d882e"
      },
      "execution_count": 78,
      "outputs": [
        {
          "output_type": "stream",
          "name": "stdout",
          "text": [
            "['HSA', 'PTR', 'PPS', 'GGO', 'PON', 'PPYG', 'NLE', 'HMH', 'SSYN', 'MCC']\n"
          ]
        }
      ]
    }
  ]
}